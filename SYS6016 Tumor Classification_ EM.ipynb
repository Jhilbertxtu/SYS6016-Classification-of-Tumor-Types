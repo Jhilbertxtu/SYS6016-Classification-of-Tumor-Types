{
 "cells": [
  {
   "cell_type": "markdown",
   "metadata": {},
   "source": [
    "# Classification of Tumor Samples using EM\n",
    "* Caitlin Dresibach\n",
    "* Elizabeth Homan\n",
    "* Morgan Wall"
   ]
  },
  {
   "cell_type": "markdown",
   "metadata": {},
   "source": [
    "## Import Libraries and Read in the Data"
   ]
  },
  {
   "cell_type": "code",
   "execution_count": 1,
   "metadata": {
    "collapsed": true
   },
   "outputs": [],
   "source": [
    "import numpy as np\n",
    "import pandas as pd\n",
    "import scipy.stats as st\n",
    "from scipy.stats import norm,bernoulli\n",
    "from scipy.optimize import minimize, show_options\n",
    "from mpl_toolkits.mplot3d import Axes3D\n",
    "from collections import namedtuple\n",
    "#from sklearn import mixture\n",
    "import matplotlib.pyplot as plt\n",
    "import csv\n",
    "import math\n",
    "%matplotlib inline"
   ]
  },
  {
   "cell_type": "code",
   "execution_count": 2,
   "metadata": {
    "collapsed": true
   },
   "outputs": [],
   "source": [
    "#Set path\n",
    "path = 'C:\\\\Users\\\\mkw5c\\\\Documents\\\\School- spring 2018\\\\Machine Learning\\\\midterm project\\\\'\n",
    "data = 'data.csv'\n",
    "labels = 'labels.csv'\n",
    "rankings = 'rferankings10.txt'"
   ]
  },
  {
   "cell_type": "code",
   "execution_count": 3,
   "metadata": {
    "collapsed": true
   },
   "outputs": [],
   "source": [
    "df1 = pd.read_csv(path + data, encoding= \"ISO-8859-1\", low_memory=False)"
   ]
  },
  {
   "cell_type": "code",
   "execution_count": 4,
   "metadata": {
    "collapsed": true
   },
   "outputs": [],
   "source": [
    "labels = pd.read_csv(path + labels, encoding= \"ISO-8859-1\", low_memory=False)"
   ]
  },
  {
   "cell_type": "code",
   "execution_count": 5,
   "metadata": {},
   "outputs": [],
   "source": [
    "ranks = pd.read_table(path + rankings, encoding= \"ISO-8859-1\", low_memory=False, header = None)"
   ]
  },
  {
   "cell_type": "markdown",
   "metadata": {},
   "source": [
    "## Preprocessing and Data Exploration"
   ]
  },
  {
   "cell_type": "code",
   "execution_count": 6,
   "metadata": {
    "collapsed": true
   },
   "outputs": [],
   "source": [
    "# add the class labels to the gene expression data\n",
    "df1[\"Class\"] = labels[\"Class\"]"
   ]
  },
  {
   "cell_type": "code",
   "execution_count": 7,
   "metadata": {},
   "outputs": [
    {
     "data": {
      "text/html": [
       "<div>\n",
       "<style>\n",
       "    .dataframe thead tr:only-child th {\n",
       "        text-align: right;\n",
       "    }\n",
       "\n",
       "    .dataframe thead th {\n",
       "        text-align: left;\n",
       "    }\n",
       "\n",
       "    .dataframe tbody tr th {\n",
       "        vertical-align: top;\n",
       "    }\n",
       "</style>\n",
       "<table border=\"1\" class=\"dataframe\">\n",
       "  <thead>\n",
       "    <tr style=\"text-align: right;\">\n",
       "      <th></th>\n",
       "      <th>Unnamed: 0</th>\n",
       "      <th>gene_0</th>\n",
       "      <th>gene_1</th>\n",
       "      <th>gene_2</th>\n",
       "      <th>gene_3</th>\n",
       "      <th>gene_4</th>\n",
       "      <th>gene_5</th>\n",
       "      <th>gene_6</th>\n",
       "      <th>gene_7</th>\n",
       "      <th>gene_8</th>\n",
       "      <th>...</th>\n",
       "      <th>gene_20522</th>\n",
       "      <th>gene_20523</th>\n",
       "      <th>gene_20524</th>\n",
       "      <th>gene_20525</th>\n",
       "      <th>gene_20526</th>\n",
       "      <th>gene_20527</th>\n",
       "      <th>gene_20528</th>\n",
       "      <th>gene_20529</th>\n",
       "      <th>gene_20530</th>\n",
       "      <th>Class</th>\n",
       "    </tr>\n",
       "  </thead>\n",
       "  <tbody>\n",
       "    <tr>\n",
       "      <th>0</th>\n",
       "      <td>sample_0</td>\n",
       "      <td>0.0</td>\n",
       "      <td>2.017209</td>\n",
       "      <td>3.265527</td>\n",
       "      <td>5.478487</td>\n",
       "      <td>10.431999</td>\n",
       "      <td>0.0</td>\n",
       "      <td>7.175175</td>\n",
       "      <td>0.591871</td>\n",
       "      <td>0.0</td>\n",
       "      <td>...</td>\n",
       "      <td>8.210257</td>\n",
       "      <td>9.723516</td>\n",
       "      <td>7.220030</td>\n",
       "      <td>9.119813</td>\n",
       "      <td>12.003135</td>\n",
       "      <td>9.650743</td>\n",
       "      <td>8.921326</td>\n",
       "      <td>5.286759</td>\n",
       "      <td>0.0</td>\n",
       "      <td>PRAD</td>\n",
       "    </tr>\n",
       "    <tr>\n",
       "      <th>1</th>\n",
       "      <td>sample_1</td>\n",
       "      <td>0.0</td>\n",
       "      <td>0.592732</td>\n",
       "      <td>1.588421</td>\n",
       "      <td>7.586157</td>\n",
       "      <td>9.623011</td>\n",
       "      <td>0.0</td>\n",
       "      <td>6.816049</td>\n",
       "      <td>0.000000</td>\n",
       "      <td>0.0</td>\n",
       "      <td>...</td>\n",
       "      <td>7.323865</td>\n",
       "      <td>9.740931</td>\n",
       "      <td>6.256586</td>\n",
       "      <td>8.381612</td>\n",
       "      <td>12.674552</td>\n",
       "      <td>10.517059</td>\n",
       "      <td>9.397854</td>\n",
       "      <td>2.094168</td>\n",
       "      <td>0.0</td>\n",
       "      <td>LUAD</td>\n",
       "    </tr>\n",
       "    <tr>\n",
       "      <th>2</th>\n",
       "      <td>sample_2</td>\n",
       "      <td>0.0</td>\n",
       "      <td>3.511759</td>\n",
       "      <td>4.327199</td>\n",
       "      <td>6.881787</td>\n",
       "      <td>9.870730</td>\n",
       "      <td>0.0</td>\n",
       "      <td>6.972130</td>\n",
       "      <td>0.452595</td>\n",
       "      <td>0.0</td>\n",
       "      <td>...</td>\n",
       "      <td>8.127123</td>\n",
       "      <td>10.908640</td>\n",
       "      <td>5.401607</td>\n",
       "      <td>9.911597</td>\n",
       "      <td>9.045255</td>\n",
       "      <td>9.788359</td>\n",
       "      <td>10.090470</td>\n",
       "      <td>1.683023</td>\n",
       "      <td>0.0</td>\n",
       "      <td>PRAD</td>\n",
       "    </tr>\n",
       "    <tr>\n",
       "      <th>3</th>\n",
       "      <td>sample_3</td>\n",
       "      <td>0.0</td>\n",
       "      <td>3.663618</td>\n",
       "      <td>4.507649</td>\n",
       "      <td>6.659068</td>\n",
       "      <td>10.196184</td>\n",
       "      <td>0.0</td>\n",
       "      <td>7.843375</td>\n",
       "      <td>0.434882</td>\n",
       "      <td>0.0</td>\n",
       "      <td>...</td>\n",
       "      <td>8.792959</td>\n",
       "      <td>10.141520</td>\n",
       "      <td>8.942805</td>\n",
       "      <td>9.601208</td>\n",
       "      <td>11.392682</td>\n",
       "      <td>9.694814</td>\n",
       "      <td>9.684365</td>\n",
       "      <td>3.292001</td>\n",
       "      <td>0.0</td>\n",
       "      <td>PRAD</td>\n",
       "    </tr>\n",
       "    <tr>\n",
       "      <th>4</th>\n",
       "      <td>sample_4</td>\n",
       "      <td>0.0</td>\n",
       "      <td>2.655741</td>\n",
       "      <td>2.821547</td>\n",
       "      <td>6.539454</td>\n",
       "      <td>9.738265</td>\n",
       "      <td>0.0</td>\n",
       "      <td>6.566967</td>\n",
       "      <td>0.360982</td>\n",
       "      <td>0.0</td>\n",
       "      <td>...</td>\n",
       "      <td>8.891425</td>\n",
       "      <td>10.373790</td>\n",
       "      <td>7.181162</td>\n",
       "      <td>9.846910</td>\n",
       "      <td>11.922439</td>\n",
       "      <td>9.217749</td>\n",
       "      <td>9.461191</td>\n",
       "      <td>5.110372</td>\n",
       "      <td>0.0</td>\n",
       "      <td>BRCA</td>\n",
       "    </tr>\n",
       "  </tbody>\n",
       "</table>\n",
       "<p>5 rows × 20533 columns</p>\n",
       "</div>"
      ],
      "text/plain": [
       "  Unnamed: 0  gene_0    gene_1    gene_2    gene_3     gene_4  gene_5  \\\n",
       "0   sample_0     0.0  2.017209  3.265527  5.478487  10.431999     0.0   \n",
       "1   sample_1     0.0  0.592732  1.588421  7.586157   9.623011     0.0   \n",
       "2   sample_2     0.0  3.511759  4.327199  6.881787   9.870730     0.0   \n",
       "3   sample_3     0.0  3.663618  4.507649  6.659068  10.196184     0.0   \n",
       "4   sample_4     0.0  2.655741  2.821547  6.539454   9.738265     0.0   \n",
       "\n",
       "     gene_6    gene_7  gene_8  ...    gene_20522  gene_20523  gene_20524  \\\n",
       "0  7.175175  0.591871     0.0  ...      8.210257    9.723516    7.220030   \n",
       "1  6.816049  0.000000     0.0  ...      7.323865    9.740931    6.256586   \n",
       "2  6.972130  0.452595     0.0  ...      8.127123   10.908640    5.401607   \n",
       "3  7.843375  0.434882     0.0  ...      8.792959   10.141520    8.942805   \n",
       "4  6.566967  0.360982     0.0  ...      8.891425   10.373790    7.181162   \n",
       "\n",
       "   gene_20525  gene_20526  gene_20527  gene_20528  gene_20529  gene_20530  \\\n",
       "0    9.119813   12.003135    9.650743    8.921326    5.286759         0.0   \n",
       "1    8.381612   12.674552   10.517059    9.397854    2.094168         0.0   \n",
       "2    9.911597    9.045255    9.788359   10.090470    1.683023         0.0   \n",
       "3    9.601208   11.392682    9.694814    9.684365    3.292001         0.0   \n",
       "4    9.846910   11.922439    9.217749    9.461191    5.110372         0.0   \n",
       "\n",
       "   Class  \n",
       "0   PRAD  \n",
       "1   LUAD  \n",
       "2   PRAD  \n",
       "3   PRAD  \n",
       "4   BRCA  \n",
       "\n",
       "[5 rows x 20533 columns]"
      ]
     },
     "execution_count": 7,
     "metadata": {},
     "output_type": "execute_result"
    }
   ],
   "source": [
    "df1.head()"
   ]
  },
  {
   "cell_type": "code",
   "execution_count": 8,
   "metadata": {
    "collapsed": true
   },
   "outputs": [],
   "source": [
    "df2 = df1.drop(\"Unnamed: 0\", axis=1)"
   ]
  },
  {
   "cell_type": "code",
   "execution_count": 9,
   "metadata": {},
   "outputs": [
    {
     "data": {
      "text/html": [
       "<div>\n",
       "<style>\n",
       "    .dataframe thead tr:only-child th {\n",
       "        text-align: right;\n",
       "    }\n",
       "\n",
       "    .dataframe thead th {\n",
       "        text-align: left;\n",
       "    }\n",
       "\n",
       "    .dataframe tbody tr th {\n",
       "        vertical-align: top;\n",
       "    }\n",
       "</style>\n",
       "<table border=\"1\" class=\"dataframe\">\n",
       "  <thead>\n",
       "    <tr style=\"text-align: right;\">\n",
       "      <th></th>\n",
       "      <th>gene_0</th>\n",
       "      <th>gene_1</th>\n",
       "      <th>gene_2</th>\n",
       "      <th>gene_3</th>\n",
       "      <th>gene_4</th>\n",
       "      <th>gene_5</th>\n",
       "      <th>gene_6</th>\n",
       "      <th>gene_7</th>\n",
       "      <th>gene_8</th>\n",
       "      <th>gene_9</th>\n",
       "      <th>...</th>\n",
       "      <th>gene_20522</th>\n",
       "      <th>gene_20523</th>\n",
       "      <th>gene_20524</th>\n",
       "      <th>gene_20525</th>\n",
       "      <th>gene_20526</th>\n",
       "      <th>gene_20527</th>\n",
       "      <th>gene_20528</th>\n",
       "      <th>gene_20529</th>\n",
       "      <th>gene_20530</th>\n",
       "      <th>Class</th>\n",
       "    </tr>\n",
       "  </thead>\n",
       "  <tbody>\n",
       "    <tr>\n",
       "      <th>0</th>\n",
       "      <td>0.0</td>\n",
       "      <td>2.017209</td>\n",
       "      <td>3.265527</td>\n",
       "      <td>5.478487</td>\n",
       "      <td>10.431999</td>\n",
       "      <td>0.0</td>\n",
       "      <td>7.175175</td>\n",
       "      <td>0.591871</td>\n",
       "      <td>0.0</td>\n",
       "      <td>0.0</td>\n",
       "      <td>...</td>\n",
       "      <td>8.210257</td>\n",
       "      <td>9.723516</td>\n",
       "      <td>7.220030</td>\n",
       "      <td>9.119813</td>\n",
       "      <td>12.003135</td>\n",
       "      <td>9.650743</td>\n",
       "      <td>8.921326</td>\n",
       "      <td>5.286759</td>\n",
       "      <td>0.0</td>\n",
       "      <td>PRAD</td>\n",
       "    </tr>\n",
       "    <tr>\n",
       "      <th>1</th>\n",
       "      <td>0.0</td>\n",
       "      <td>0.592732</td>\n",
       "      <td>1.588421</td>\n",
       "      <td>7.586157</td>\n",
       "      <td>9.623011</td>\n",
       "      <td>0.0</td>\n",
       "      <td>6.816049</td>\n",
       "      <td>0.000000</td>\n",
       "      <td>0.0</td>\n",
       "      <td>0.0</td>\n",
       "      <td>...</td>\n",
       "      <td>7.323865</td>\n",
       "      <td>9.740931</td>\n",
       "      <td>6.256586</td>\n",
       "      <td>8.381612</td>\n",
       "      <td>12.674552</td>\n",
       "      <td>10.517059</td>\n",
       "      <td>9.397854</td>\n",
       "      <td>2.094168</td>\n",
       "      <td>0.0</td>\n",
       "      <td>LUAD</td>\n",
       "    </tr>\n",
       "    <tr>\n",
       "      <th>2</th>\n",
       "      <td>0.0</td>\n",
       "      <td>3.511759</td>\n",
       "      <td>4.327199</td>\n",
       "      <td>6.881787</td>\n",
       "      <td>9.870730</td>\n",
       "      <td>0.0</td>\n",
       "      <td>6.972130</td>\n",
       "      <td>0.452595</td>\n",
       "      <td>0.0</td>\n",
       "      <td>0.0</td>\n",
       "      <td>...</td>\n",
       "      <td>8.127123</td>\n",
       "      <td>10.908640</td>\n",
       "      <td>5.401607</td>\n",
       "      <td>9.911597</td>\n",
       "      <td>9.045255</td>\n",
       "      <td>9.788359</td>\n",
       "      <td>10.090470</td>\n",
       "      <td>1.683023</td>\n",
       "      <td>0.0</td>\n",
       "      <td>PRAD</td>\n",
       "    </tr>\n",
       "    <tr>\n",
       "      <th>3</th>\n",
       "      <td>0.0</td>\n",
       "      <td>3.663618</td>\n",
       "      <td>4.507649</td>\n",
       "      <td>6.659068</td>\n",
       "      <td>10.196184</td>\n",
       "      <td>0.0</td>\n",
       "      <td>7.843375</td>\n",
       "      <td>0.434882</td>\n",
       "      <td>0.0</td>\n",
       "      <td>0.0</td>\n",
       "      <td>...</td>\n",
       "      <td>8.792959</td>\n",
       "      <td>10.141520</td>\n",
       "      <td>8.942805</td>\n",
       "      <td>9.601208</td>\n",
       "      <td>11.392682</td>\n",
       "      <td>9.694814</td>\n",
       "      <td>9.684365</td>\n",
       "      <td>3.292001</td>\n",
       "      <td>0.0</td>\n",
       "      <td>PRAD</td>\n",
       "    </tr>\n",
       "    <tr>\n",
       "      <th>4</th>\n",
       "      <td>0.0</td>\n",
       "      <td>2.655741</td>\n",
       "      <td>2.821547</td>\n",
       "      <td>6.539454</td>\n",
       "      <td>9.738265</td>\n",
       "      <td>0.0</td>\n",
       "      <td>6.566967</td>\n",
       "      <td>0.360982</td>\n",
       "      <td>0.0</td>\n",
       "      <td>0.0</td>\n",
       "      <td>...</td>\n",
       "      <td>8.891425</td>\n",
       "      <td>10.373790</td>\n",
       "      <td>7.181162</td>\n",
       "      <td>9.846910</td>\n",
       "      <td>11.922439</td>\n",
       "      <td>9.217749</td>\n",
       "      <td>9.461191</td>\n",
       "      <td>5.110372</td>\n",
       "      <td>0.0</td>\n",
       "      <td>BRCA</td>\n",
       "    </tr>\n",
       "  </tbody>\n",
       "</table>\n",
       "<p>5 rows × 20532 columns</p>\n",
       "</div>"
      ],
      "text/plain": [
       "   gene_0    gene_1    gene_2    gene_3     gene_4  gene_5    gene_6  \\\n",
       "0     0.0  2.017209  3.265527  5.478487  10.431999     0.0  7.175175   \n",
       "1     0.0  0.592732  1.588421  7.586157   9.623011     0.0  6.816049   \n",
       "2     0.0  3.511759  4.327199  6.881787   9.870730     0.0  6.972130   \n",
       "3     0.0  3.663618  4.507649  6.659068  10.196184     0.0  7.843375   \n",
       "4     0.0  2.655741  2.821547  6.539454   9.738265     0.0  6.566967   \n",
       "\n",
       "     gene_7  gene_8  gene_9  ...    gene_20522  gene_20523  gene_20524  \\\n",
       "0  0.591871     0.0     0.0  ...      8.210257    9.723516    7.220030   \n",
       "1  0.000000     0.0     0.0  ...      7.323865    9.740931    6.256586   \n",
       "2  0.452595     0.0     0.0  ...      8.127123   10.908640    5.401607   \n",
       "3  0.434882     0.0     0.0  ...      8.792959   10.141520    8.942805   \n",
       "4  0.360982     0.0     0.0  ...      8.891425   10.373790    7.181162   \n",
       "\n",
       "   gene_20525  gene_20526  gene_20527  gene_20528  gene_20529  gene_20530  \\\n",
       "0    9.119813   12.003135    9.650743    8.921326    5.286759         0.0   \n",
       "1    8.381612   12.674552   10.517059    9.397854    2.094168         0.0   \n",
       "2    9.911597    9.045255    9.788359   10.090470    1.683023         0.0   \n",
       "3    9.601208   11.392682    9.694814    9.684365    3.292001         0.0   \n",
       "4    9.846910   11.922439    9.217749    9.461191    5.110372         0.0   \n",
       "\n",
       "   Class  \n",
       "0   PRAD  \n",
       "1   LUAD  \n",
       "2   PRAD  \n",
       "3   PRAD  \n",
       "4   BRCA  \n",
       "\n",
       "[5 rows x 20532 columns]"
      ]
     },
     "execution_count": 9,
     "metadata": {},
     "output_type": "execute_result"
    }
   ],
   "source": [
    "df2.head()"
   ]
  },
  {
   "cell_type": "code",
   "execution_count": 10,
   "metadata": {},
   "outputs": [
    {
     "data": {
      "text/html": [
       "<div>\n",
       "<style>\n",
       "    .dataframe thead tr:only-child th {\n",
       "        text-align: right;\n",
       "    }\n",
       "\n",
       "    .dataframe thead th {\n",
       "        text-align: left;\n",
       "    }\n",
       "\n",
       "    .dataframe tbody tr th {\n",
       "        vertical-align: top;\n",
       "    }\n",
       "</style>\n",
       "<table border=\"1\" class=\"dataframe\">\n",
       "  <thead>\n",
       "    <tr style=\"text-align: right;\">\n",
       "      <th></th>\n",
       "      <th>0</th>\n",
       "    </tr>\n",
       "  </thead>\n",
       "  <tbody>\n",
       "    <tr>\n",
       "      <th>0</th>\n",
       "      <td>19747</td>\n",
       "    </tr>\n",
       "    <tr>\n",
       "      <th>1</th>\n",
       "      <td>16579</td>\n",
       "    </tr>\n",
       "    <tr>\n",
       "      <th>2</th>\n",
       "      <td>10421</td>\n",
       "    </tr>\n",
       "    <tr>\n",
       "      <th>3</th>\n",
       "      <td>7377</td>\n",
       "    </tr>\n",
       "    <tr>\n",
       "      <th>4</th>\n",
       "      <td>14640</td>\n",
       "    </tr>\n",
       "  </tbody>\n",
       "</table>\n",
       "</div>"
      ],
      "text/plain": [
       "       0\n",
       "0  19747\n",
       "1  16579\n",
       "2  10421\n",
       "3   7377\n",
       "4  14640"
      ]
     },
     "execution_count": 10,
     "metadata": {},
     "output_type": "execute_result"
    }
   ],
   "source": [
    "ranks.head()"
   ]
  },
  {
   "cell_type": "code",
   "execution_count": 12,
   "metadata": {},
   "outputs": [
    {
     "data": {
      "text/plain": [
       "[3523, 3541, 3921, 6733, 6876, 7623, 7964, 8598, 9175, 15898, 20531]"
      ]
     },
     "execution_count": 12,
     "metadata": {},
     "output_type": "execute_result"
    }
   ],
   "source": [
    "# create a list of the top 10 genes based on the RFE results, to use for subsetting the full dataset\n",
    "ranks2 = ranks[ranks[0] == 1]\n",
    "ranks2.index.name = 'topgenes'\n",
    "ranks2.reset_index(inplace=True)\n",
    "ranks2.head()\n",
    "top_genes = ranks2['topgenes'].tolist()\n",
    "top_genes.append(20531) # keep the class column\n",
    "top_genes"
   ]
  },
  {
   "cell_type": "code",
   "execution_count": 13,
   "metadata": {},
   "outputs": [
    {
     "name": "stdout",
     "output_type": "stream",
     "text": [
      "(801, 11)\n",
      "Index(['gene_3523', 'gene_3541', 'gene_3921', 'gene_6733', 'gene_6876',\n",
      "       'gene_7623', 'gene_7964', 'gene_8598', 'gene_9175', 'gene_15898',\n",
      "       'Class'],\n",
      "      dtype='object')\n"
     ]
    }
   ],
   "source": [
    "# take a subset of the data including all observations, but only the top 10 genes and the class labels\n",
    "\n",
    "df3 = df2.iloc[:,top_genes]\n",
    "print(df3.shape)\n",
    "print(df3.columns)"
   ]
  },
  {
   "cell_type": "code",
   "execution_count": 17,
   "metadata": {},
   "outputs": [
    {
     "data": {
      "text/html": [
       "<div>\n",
       "<style>\n",
       "    .dataframe thead tr:only-child th {\n",
       "        text-align: right;\n",
       "    }\n",
       "\n",
       "    .dataframe thead th {\n",
       "        text-align: left;\n",
       "    }\n",
       "\n",
       "    .dataframe tbody tr th {\n",
       "        vertical-align: top;\n",
       "    }\n",
       "</style>\n",
       "<table border=\"1\" class=\"dataframe\">\n",
       "  <thead>\n",
       "    <tr style=\"text-align: right;\">\n",
       "      <th></th>\n",
       "      <th>gene_3523</th>\n",
       "      <th>gene_3541</th>\n",
       "      <th>gene_3921</th>\n",
       "      <th>gene_6733</th>\n",
       "      <th>gene_6876</th>\n",
       "      <th>gene_7623</th>\n",
       "      <th>gene_7964</th>\n",
       "      <th>gene_8598</th>\n",
       "      <th>gene_9175</th>\n",
       "      <th>gene_15898</th>\n",
       "    </tr>\n",
       "  </thead>\n",
       "  <tbody>\n",
       "    <tr>\n",
       "      <th>0</th>\n",
       "      <td>1.822037</td>\n",
       "      <td>5.788312</td>\n",
       "      <td>0.591871</td>\n",
       "      <td>2.717803</td>\n",
       "      <td>8.440400</td>\n",
       "      <td>5.663951</td>\n",
       "      <td>5.248778</td>\n",
       "      <td>7.210184</td>\n",
       "      <td>17.173570</td>\n",
       "      <td>1.334282</td>\n",
       "    </tr>\n",
       "    <tr>\n",
       "      <th>1</th>\n",
       "      <td>1.327170</td>\n",
       "      <td>13.059513</td>\n",
       "      <td>0.587845</td>\n",
       "      <td>2.592278</td>\n",
       "      <td>6.484409</td>\n",
       "      <td>0.000000</td>\n",
       "      <td>3.890826</td>\n",
       "      <td>2.762370</td>\n",
       "      <td>0.000000</td>\n",
       "      <td>13.609213</td>\n",
       "    </tr>\n",
       "    <tr>\n",
       "      <th>2</th>\n",
       "      <td>2.438799</td>\n",
       "      <td>5.155361</td>\n",
       "      <td>0.796598</td>\n",
       "      <td>1.306846</td>\n",
       "      <td>3.352236</td>\n",
       "      <td>1.306846</td>\n",
       "      <td>1.074163</td>\n",
       "      <td>3.677147</td>\n",
       "      <td>14.818422</td>\n",
       "      <td>1.074163</td>\n",
       "    </tr>\n",
       "    <tr>\n",
       "      <th>3</th>\n",
       "      <td>1.039419</td>\n",
       "      <td>5.983377</td>\n",
       "      <td>0.000000</td>\n",
       "      <td>0.000000</td>\n",
       "      <td>5.967242</td>\n",
       "      <td>0.000000</td>\n",
       "      <td>2.650029</td>\n",
       "      <td>7.226961</td>\n",
       "      <td>17.371079</td>\n",
       "      <td>0.434882</td>\n",
       "    </tr>\n",
       "    <tr>\n",
       "      <th>4</th>\n",
       "      <td>2.678342</td>\n",
       "      <td>8.349648</td>\n",
       "      <td>1.095654</td>\n",
       "      <td>0.360982</td>\n",
       "      <td>13.636772</td>\n",
       "      <td>5.024776</td>\n",
       "      <td>0.000000</td>\n",
       "      <td>10.982102</td>\n",
       "      <td>1.580097</td>\n",
       "      <td>1.095654</td>\n",
       "    </tr>\n",
       "  </tbody>\n",
       "</table>\n",
       "</div>"
      ],
      "text/plain": [
       "   gene_3523  gene_3541  gene_3921  gene_6733  gene_6876  gene_7623  \\\n",
       "0   1.822037   5.788312   0.591871   2.717803   8.440400   5.663951   \n",
       "1   1.327170  13.059513   0.587845   2.592278   6.484409   0.000000   \n",
       "2   2.438799   5.155361   0.796598   1.306846   3.352236   1.306846   \n",
       "3   1.039419   5.983377   0.000000   0.000000   5.967242   0.000000   \n",
       "4   2.678342   8.349648   1.095654   0.360982  13.636772   5.024776   \n",
       "\n",
       "   gene_7964  gene_8598  gene_9175  gene_15898  \n",
       "0   5.248778   7.210184  17.173570    1.334282  \n",
       "1   3.890826   2.762370   0.000000   13.609213  \n",
       "2   1.074163   3.677147  14.818422    1.074163  \n",
       "3   2.650029   7.226961  17.371079    0.434882  \n",
       "4   0.000000  10.982102   1.580097    1.095654  "
      ]
     },
     "execution_count": 17,
     "metadata": {},
     "output_type": "execute_result"
    }
   ],
   "source": [
    "# define x and y (features and classes)\n",
    "x = df3.iloc[:,:10]\n",
    "y = df3.loc[:,\"Class\"]\n",
    "x.head()"
   ]
  },
  {
   "cell_type": "code",
   "execution_count": 18,
   "metadata": {},
   "outputs": [
    {
     "data": {
      "image/png": "[encoded data removed]",
      "text/plain": [
       "<matplotlib.figure.Figure at 0x24b82374eb8>"
      ]
     },
     "metadata": {},
     "output_type": "display_data"
    }
   ],
   "source": [
    "# view a distribution of the class labels\n",
    "h1 = plt.hist(np.array(df2[\"Class\"]), bins=20,normed=False,histtype='stepfilled',alpha=0.8); "
   ]
  },
  {
   "cell_type": "code",
   "execution_count": 19,
   "metadata": {
    "collapsed": true
   },
   "outputs": [],
   "source": [
    "#  Create a subset of the full dataset for each tumor type (to be used for selecting a random point\n",
    "#   from each class)\n",
    "\n",
    "df_prad = df3.loc[df3[\"Class\"] == \"PRAD\", :]\n",
    "df_luad = df3.loc[df3[\"Class\"] == \"LUAD\", :]\n",
    "df_brca = df3.loc[df3[\"Class\"] == \"BRCA\", :]\n",
    "df_kirc = df3.loc[df3[\"Class\"] == \"KIRC\", :]\n",
    "df_coad = df3.loc[df3[\"Class\"] == \"COAD\", :]"
   ]
  },
  {
   "cell_type": "markdown",
   "metadata": {},
   "source": [
    "## Expectation Maximization Set Up \n"
   ]
  },
  {
   "cell_type": "code",
   "execution_count": 20,
   "metadata": {
    "collapsed": true
   },
   "outputs": [],
   "source": [
    "# Basic Dimensions\n",
    "\n",
    "n = 801  #number of samples\n",
    "d = 10   #number of features\n",
    "k = 5    #number of clusters\n"
   ]
  },
  {
   "cell_type": "markdown",
   "metadata": {},
   "source": [
    "### Initialize the Means (mu)"
   ]
  },
  {
   "cell_type": "code",
   "execution_count": 21,
   "metadata": {},
   "outputs": [
    {
     "data": {
      "text/html": [
       "<div>\n",
       "<style>\n",
       "    .dataframe thead tr:only-child th {\n",
       "        text-align: right;\n",
       "    }\n",
       "\n",
       "    .dataframe thead th {\n",
       "        text-align: left;\n",
       "    }\n",
       "\n",
       "    .dataframe tbody tr th {\n",
       "        vertical-align: top;\n",
       "    }\n",
       "</style>\n",
       "<table border=\"1\" class=\"dataframe\">\n",
       "  <thead>\n",
       "    <tr style=\"text-align: right;\">\n",
       "      <th></th>\n",
       "      <th>gene_3523</th>\n",
       "      <th>gene_3541</th>\n",
       "      <th>gene_3921</th>\n",
       "      <th>gene_6733</th>\n",
       "      <th>gene_6876</th>\n",
       "      <th>gene_7623</th>\n",
       "      <th>gene_7964</th>\n",
       "      <th>gene_8598</th>\n",
       "      <th>gene_9175</th>\n",
       "      <th>gene_15898</th>\n",
       "    </tr>\n",
       "  </thead>\n",
       "  <tbody>\n",
       "    <tr>\n",
       "      <th>PRAD</th>\n",
       "      <td>1.005903</td>\n",
       "      <td>1.005903</td>\n",
       "      <td>1.329009</td>\n",
       "      <td>0.588900</td>\n",
       "      <td>5.033775</td>\n",
       "      <td>4.437487</td>\n",
       "      <td>8.061576</td>\n",
       "      <td>6.077683</td>\n",
       "      <td>17.071661</td>\n",
       "      <td>0.588900</td>\n",
       "    </tr>\n",
       "    <tr>\n",
       "      <th>LUAD</th>\n",
       "      <td>2.441165</td>\n",
       "      <td>14.155625</td>\n",
       "      <td>2.112066</td>\n",
       "      <td>5.899840</td>\n",
       "      <td>8.281480</td>\n",
       "      <td>0.000000</td>\n",
       "      <td>10.084782</td>\n",
       "      <td>2.708938</td>\n",
       "      <td>0.635801</td>\n",
       "      <td>12.680127</td>\n",
       "    </tr>\n",
       "    <tr>\n",
       "      <th>BRCA</th>\n",
       "      <td>2.736627</td>\n",
       "      <td>15.741717</td>\n",
       "      <td>1.455807</td>\n",
       "      <td>1.206206</td>\n",
       "      <td>8.247287</td>\n",
       "      <td>7.679086</td>\n",
       "      <td>0.000000</td>\n",
       "      <td>9.715521</td>\n",
       "      <td>3.280288</td>\n",
       "      <td>0.521855</td>\n",
       "    </tr>\n",
       "    <tr>\n",
       "      <th>KIRC</th>\n",
       "      <td>2.808488</td>\n",
       "      <td>0.000000</td>\n",
       "      <td>9.788191</td>\n",
       "      <td>6.879350</td>\n",
       "      <td>4.332164</td>\n",
       "      <td>0.000000</td>\n",
       "      <td>10.890241</td>\n",
       "      <td>6.902170</td>\n",
       "      <td>0.459746</td>\n",
       "      <td>0.000000</td>\n",
       "    </tr>\n",
       "    <tr>\n",
       "      <th>COAD</th>\n",
       "      <td>12.170035</td>\n",
       "      <td>14.584575</td>\n",
       "      <td>10.695594</td>\n",
       "      <td>4.185930</td>\n",
       "      <td>2.564256</td>\n",
       "      <td>2.660860</td>\n",
       "      <td>9.260369</td>\n",
       "      <td>1.607721</td>\n",
       "      <td>1.607721</td>\n",
       "      <td>0.495183</td>\n",
       "    </tr>\n",
       "  </tbody>\n",
       "</table>\n",
       "</div>"
      ],
      "text/plain": [
       "      gene_3523  gene_3541  gene_3921  gene_6733  gene_6876  gene_7623  \\\n",
       "PRAD   1.005903   1.005903   1.329009   0.588900   5.033775   4.437487   \n",
       "LUAD   2.441165  14.155625   2.112066   5.899840   8.281480   0.000000   \n",
       "BRCA   2.736627  15.741717   1.455807   1.206206   8.247287   7.679086   \n",
       "KIRC   2.808488   0.000000   9.788191   6.879350   4.332164   0.000000   \n",
       "COAD  12.170035  14.584575  10.695594   4.185930   2.564256   2.660860   \n",
       "\n",
       "      gene_7964  gene_8598  gene_9175  gene_15898  \n",
       "PRAD   8.061576   6.077683  17.071661    0.588900  \n",
       "LUAD  10.084782   2.708938   0.635801   12.680127  \n",
       "BRCA   0.000000   9.715521   3.280288    0.521855  \n",
       "KIRC  10.890241   6.902170   0.459746    0.000000  \n",
       "COAD   9.260369   1.607721   1.607721    0.495183  "
      ]
     },
     "execution_count": 21,
     "metadata": {},
     "output_type": "execute_result"
    }
   ],
   "source": [
    "#choose a random datapoint from each cluster to be the starting mean\n",
    "mu = []\n",
    "dfs = [df_prad, df_luad, df_brca, df_kirc, df_coad]\n",
    "for i in range(5):\n",
    "    mu_ = dfs[i].iloc[np.random.choice(range(len(dfs[i])), 1, False), :]\n",
    "    mu.append(mu_)\n",
    "\n",
    "mu_df = pd.DataFrame(columns = dfs[1].columns)\n",
    "for i in range(len(mu)):\n",
    "    mu_df = pd.concat([mu_df, mu[i]])\n",
    "mu = mu_df.iloc[:, 0:10]\n",
    "mu\n",
    "\n",
    "#rename the rows\n",
    "mu.index = [\"PRAD\", \"LUAD\", \"BRCA\", \"KIRC\", \"COAD\"]\n",
    "mu"
   ]
  },
  {
   "cell_type": "markdown",
   "metadata": {},
   "source": [
    "### Initialize the Covariance (sigma)"
   ]
  },
  {
   "cell_type": "code",
   "execution_count": 22,
   "metadata": {},
   "outputs": [],
   "source": [
    "#initialize the covariance matrices as identity matrices for each cluster with dimensions dxd\n",
    "sigma = [np.eye(d)] * k"
   ]
  },
  {
   "cell_type": "markdown",
   "metadata": {},
   "source": [
    "### Initialize the Class Probabilities"
   ]
  },
  {
   "cell_type": "code",
   "execution_count": 23,
   "metadata": {},
   "outputs": [
    {
     "data": {
      "text/plain": [
       "[0.2, 0.2, 0.2, 0.2, 0.2]"
      ]
     },
     "execution_count": 23,
     "metadata": {},
     "output_type": "execute_result"
    }
   ],
   "source": [
    "#initialize pi- probability of each class\n",
    "\n",
    "pi_ = [1./k] * k #equally probable\n",
    "pi_"
   ]
  },
  {
   "cell_type": "markdown",
   "metadata": {},
   "source": [
    "### Initialize the Responsibility Matrix"
   ]
  },
  {
   "cell_type": "code",
   "execution_count": 24,
   "metadata": {},
   "outputs": [
    {
     "data": {
      "text/plain": [
       "(801, 5)"
      ]
     },
     "execution_count": 24,
     "metadata": {},
     "output_type": "execute_result"
    }
   ],
   "source": [
    "# initialize the responsibility function as 0\n",
    "gamma = np.zeros((n, k))\n",
    "gamma.shape"
   ]
  },
  {
   "cell_type": "markdown",
   "metadata": {},
   "source": [
    "### Define the Probability Distribution Functions\n",
    "* PDF is the probability of the class of x given theta.  \n",
    "* mixPDF = sum over all classes [the probability of the class * distribution of the class]\n",
    "* responsibility function for each sample = PDFk/mixPDF"
   ]
  },
  {
   "cell_type": "code",
   "execution_count": 25,
   "metadata": {
    "collapsed": true
   },
   "outputs": [],
   "source": [
    "# define the Probability Distribution Function to be used in the E- step \n",
    "# for computing the responsibility function. \n",
    "\n",
    "PDF = lambda mu, sigma: np.linalg.det(sigma) ** -.5 ** (2*np.pi) ** (-n/2.)\\\n",
    "        * np.exp(-.5 *np.einsum('ij, ij -> i', x - mu, np.dot(np.linalg.inv(sigma), \\\n",
    "        (x-mu).T).T))"
   ]
  },
  {
   "cell_type": "markdown",
   "metadata": {},
   "source": [
    "## Run the Expectation Maximization"
   ]
  },
  {
   "cell_type": "code",
   "execution_count": 26,
   "metadata": {},
   "outputs": [
    {
     "name": "stdout",
     "output_type": "stream",
     "text": [
      "9\n"
     ]
    }
   ],
   "source": [
    "#initialize a loop\n",
    "\n",
    "log_likelihoods = []\n",
    "theta_learning = []\n",
    "means = []\n",
    "covar = []\n",
    "probs = []\n",
    "threshold = 0.0001\n",
    "max_iter = 10000\n",
    "counter = 0\n",
    "converged = False\n",
    "\n",
    "while not converged: \n",
    "    counter += 1 \n",
    "    for k_value in range(k):\n",
    "        \n",
    "        #-- E- Step\n",
    "        #---- calculate the responsibility function\n",
    "        gamma[:, k_value] = pi_[k_value] * PDF(mu.iloc[k_value], sigma[k_value])\n",
    "\n",
    "        #---- calculate the log likelihood\n",
    "    log_likelihood = np.sum(np.log(np.sum(gamma, axis = 1)))\n",
    "    log_likelihoods.append(log_likelihood)\n",
    "\n",
    "    #---- normalize so that the responsibility matrix is row stochastic\n",
    "    gamma = (gamma.T /np.sum(gamma, axis = 1)).T\n",
    "\n",
    "    #---- determine the number of datapoints falling into each distribution\n",
    "    N_ks = np.sum(gamma, axis = 0)\n",
    "\n",
    "    for k_value in range(k):\n",
    "        #-- M- Step\n",
    "        #---- calculate the new parameters for each Gaussian\n",
    "\n",
    "        mu.iloc[k_value] = (np.sum(gamma[:, k_value]* x.T, axis = 1).T) / N_ks[k_value]\n",
    "        x_mu = np.matrix(x- mu.iloc[k_value])\n",
    "\n",
    "        sigma[k_value] = np.array(np.dot(np.multiply(x_mu.T, gamma[:, k_value]), x_mu)/ N_ks[k_value])\n",
    "\n",
    "        pi_[k_value] = 1./ n*N_ks[k_value]\n",
    "\n",
    "    #-- track progress\n",
    "    theta0 = namedtuple('theta0', ['mu', 'sigma', 'pi_', 'log_likelihood', 'iterations'])\n",
    "    theta0.mu = mu\n",
    "    theta0.sigma = sigma\n",
    "    theta0.pi_ = pi_\n",
    "    theta0.log_likelihood = log_likelihoods\n",
    "    theta0.iterations = len(log_likelihoods)\n",
    "    \n",
    "    theta_learning.append(theta0)\n",
    "    means.append(mu)\n",
    "    covar.append(sigma)\n",
    "    probs.append(pi_)\n",
    "    \n",
    "    \n",
    "    #-- check for convergence\n",
    "    if len(log_likelihoods) < 2 : continue\n",
    "    if np.abs(log_likelihood - log_likelihoods[-2])< threshold: break\n",
    "    \n",
    "    # or reached max iterations? \n",
    "    converged = counter >= max_iter \n",
    "    \n",
    "params = namedtuple('params', ['mu', 'sigma', 'pi_', 'log_likelihoods', 'num_iters'])\n",
    "params.mu = mu\n",
    "params.sigma = sigma\n",
    "params.pi_ = pi_\n",
    "params.log_likelihoods = log_likelihoods\n",
    "params.num_iters = len(log_likelihoods)  \n",
    "        \n",
    "print(len(log_likelihoods))\n",
    "    \n"
   ]
  },
  {
   "cell_type": "markdown",
   "metadata": {},
   "source": [
    "### View Resulting Parameters"
   ]
  },
  {
   "cell_type": "code",
   "execution_count": 27,
   "metadata": {
    "scrolled": true
   },
   "outputs": [
    {
     "name": "stdout",
     "output_type": "stream",
     "text": [
      "      gene_3523  gene_3541  gene_3921  gene_6733  gene_6876  gene_7623  \\\n",
      "PRAD   1.340056   5.349056   0.731911   1.751508   6.882429   2.558044   \n",
      "LUAD   2.670100  14.153508   2.106795   3.625453   6.231519   0.623790   \n",
      "BRCA   2.559154   9.005259   1.056056   1.570165  12.766652   4.679135   \n",
      "KIRC   1.473396   0.799835   9.584319  12.968026   6.329082   0.251061   \n",
      "COAD  11.817061  14.480650   9.820895   2.350674   4.530450   4.390389   \n",
      "\n",
      "      gene_7964  gene_8598  gene_9175  gene_15898  \n",
      "PRAD   6.735686   6.530793  16.752979    0.742696  \n",
      "LUAD   8.577297   7.525905   0.879257   15.558813  \n",
      "BRCA   0.357850   9.957021   1.615781    1.070122  \n",
      "KIRC  11.178334   6.515465   0.355445    1.011757  \n",
      "COAD   9.104005   3.601341   1.054822    1.382390  \n",
      "[0.16978823331575033, 0.17852942849318074, 0.3732803408147411, 0.18102372022276983, 0.097378277153558054]\n"
     ]
    }
   ],
   "source": [
    "print(params.mu.iloc[0:10, :])\n",
    "print(params.pi_)"
   ]
  },
  {
   "cell_type": "markdown",
   "metadata": {},
   "source": [
    "## Use the Distributions from EM to Predict the Class Labels"
   ]
  },
  {
   "cell_type": "code",
   "execution_count": 28,
   "metadata": {
    "collapsed": true
   },
   "outputs": [],
   "source": [
    "# define a function that predicts the probability of each class for each observation using the \n",
    "# distribution parameters from the EM model\n",
    "def predict(x, k):\n",
    "    p = np.linalg.det(sigma[k]) ** - 0.5 * (2 * np.pi) **\\\n",
    "        (-len(x)/2) * np.exp( -0.5 * np.dot(x - mu.iloc[k] , \\\n",
    "        np.dot(np.linalg.inv(sigma[k]) , (x - mu.iloc[k]).T)))\n",
    "    prob = pi_[k]*p\n",
    "    return(prob)"
   ]
  },
  {
   "cell_type": "code",
   "execution_count": 29,
   "metadata": {
    "collapsed": true
   },
   "outputs": [],
   "source": [
    "# create a dataframe to store the predicted probabilites for each class\n",
    "prob_df = pd.DataFrame(index = np.arange(801), columns = ['PRAD', 'LUAD', 'BRCA', 'KIRC', 'COAD'])"
   ]
  },
  {
   "cell_type": "code",
   "execution_count": 30,
   "metadata": {
    "collapsed": true
   },
   "outputs": [],
   "source": [
    "# calculate the probabilities of each class for each observation\n",
    "prob_df['PRAD'] = predict(x, 0)\n",
    "prob_df['LUAD'] = predict(x, 1)\n",
    "prob_df['BRCA'] = predict(x, 2)\n",
    "prob_df['KIRC'] = predict(x, 3)\n",
    "prob_df['COAD'] = predict(x, 4)"
   ]
  },
  {
   "cell_type": "code",
   "execution_count": 31,
   "metadata": {},
   "outputs": [
    {
     "data": {
      "text/html": [
       "<div>\n",
       "<style>\n",
       "    .dataframe thead tr:only-child th {\n",
       "        text-align: right;\n",
       "    }\n",
       "\n",
       "    .dataframe thead th {\n",
       "        text-align: left;\n",
       "    }\n",
       "\n",
       "    .dataframe tbody tr th {\n",
       "        vertical-align: top;\n",
       "    }\n",
       "</style>\n",
       "<table border=\"1\" class=\"dataframe\">\n",
       "  <thead>\n",
       "    <tr style=\"text-align: right;\">\n",
       "      <th></th>\n",
       "      <th>PRAD</th>\n",
       "      <th>LUAD</th>\n",
       "      <th>BRCA</th>\n",
       "      <th>KIRC</th>\n",
       "      <th>COAD</th>\n",
       "    </tr>\n",
       "  </thead>\n",
       "  <tbody>\n",
       "    <tr>\n",
       "      <th>0</th>\n",
       "      <td>3.458460e-323</td>\n",
       "      <td>0.000000e+00</td>\n",
       "      <td>0.000000e+00</td>\n",
       "      <td>0.000000e+00</td>\n",
       "      <td>0.0</td>\n",
       "    </tr>\n",
       "    <tr>\n",
       "      <th>1</th>\n",
       "      <td>2.583963e-321</td>\n",
       "      <td>1.027380e-318</td>\n",
       "      <td>0.000000e+00</td>\n",
       "      <td>2.872673e-308</td>\n",
       "      <td>0.0</td>\n",
       "    </tr>\n",
       "    <tr>\n",
       "      <th>2</th>\n",
       "      <td>1.047419e-321</td>\n",
       "      <td>0.000000e+00</td>\n",
       "      <td>0.000000e+00</td>\n",
       "      <td>0.000000e+00</td>\n",
       "      <td>0.0</td>\n",
       "    </tr>\n",
       "    <tr>\n",
       "      <th>3</th>\n",
       "      <td>7.855644e-322</td>\n",
       "      <td>0.000000e+00</td>\n",
       "      <td>0.000000e+00</td>\n",
       "      <td>0.000000e+00</td>\n",
       "      <td>0.0</td>\n",
       "    </tr>\n",
       "    <tr>\n",
       "      <th>4</th>\n",
       "      <td>3.606679e-322</td>\n",
       "      <td>0.000000e+00</td>\n",
       "      <td>2.156102e-320</td>\n",
       "      <td>0.000000e+00</td>\n",
       "      <td>0.0</td>\n",
       "    </tr>\n",
       "  </tbody>\n",
       "</table>\n",
       "</div>"
      ],
      "text/plain": [
       "            PRAD           LUAD           BRCA           KIRC  COAD\n",
       "0  3.458460e-323   0.000000e+00   0.000000e+00   0.000000e+00   0.0\n",
       "1  2.583963e-321  1.027380e-318   0.000000e+00  2.872673e-308   0.0\n",
       "2  1.047419e-321   0.000000e+00   0.000000e+00   0.000000e+00   0.0\n",
       "3  7.855644e-322   0.000000e+00   0.000000e+00   0.000000e+00   0.0\n",
       "4  3.606679e-322   0.000000e+00  2.156102e-320   0.000000e+00   0.0"
      ]
     },
     "execution_count": 31,
     "metadata": {},
     "output_type": "execute_result"
    }
   ],
   "source": [
    "prob_df.head()"
   ]
  },
  {
   "cell_type": "code",
   "execution_count": 32,
   "metadata": {},
   "outputs": [
    {
     "data": {
      "text/html": [
       "<div>\n",
       "<style>\n",
       "    .dataframe thead tr:only-child th {\n",
       "        text-align: right;\n",
       "    }\n",
       "\n",
       "    .dataframe thead th {\n",
       "        text-align: left;\n",
       "    }\n",
       "\n",
       "    .dataframe tbody tr th {\n",
       "        vertical-align: top;\n",
       "    }\n",
       "</style>\n",
       "<table border=\"1\" class=\"dataframe\">\n",
       "  <thead>\n",
       "    <tr style=\"text-align: right;\">\n",
       "      <th></th>\n",
       "      <th>PRAD</th>\n",
       "      <th>LUAD</th>\n",
       "      <th>BRCA</th>\n",
       "      <th>KIRC</th>\n",
       "      <th>COAD</th>\n",
       "      <th>sum</th>\n",
       "    </tr>\n",
       "  </thead>\n",
       "  <tbody>\n",
       "    <tr>\n",
       "      <th>0</th>\n",
       "      <td>3.458460e-323</td>\n",
       "      <td>0.000000e+00</td>\n",
       "      <td>0.000000e+00</td>\n",
       "      <td>0.000000e+00</td>\n",
       "      <td>0.0</td>\n",
       "      <td>3.458460e-323</td>\n",
       "    </tr>\n",
       "    <tr>\n",
       "      <th>1</th>\n",
       "      <td>2.583963e-321</td>\n",
       "      <td>1.027380e-318</td>\n",
       "      <td>0.000000e+00</td>\n",
       "      <td>2.872673e-308</td>\n",
       "      <td>0.0</td>\n",
       "      <td>2.872673e-308</td>\n",
       "    </tr>\n",
       "    <tr>\n",
       "      <th>2</th>\n",
       "      <td>1.047419e-321</td>\n",
       "      <td>0.000000e+00</td>\n",
       "      <td>0.000000e+00</td>\n",
       "      <td>0.000000e+00</td>\n",
       "      <td>0.0</td>\n",
       "      <td>1.047419e-321</td>\n",
       "    </tr>\n",
       "    <tr>\n",
       "      <th>3</th>\n",
       "      <td>7.855644e-322</td>\n",
       "      <td>0.000000e+00</td>\n",
       "      <td>0.000000e+00</td>\n",
       "      <td>0.000000e+00</td>\n",
       "      <td>0.0</td>\n",
       "      <td>7.855644e-322</td>\n",
       "    </tr>\n",
       "    <tr>\n",
       "      <th>4</th>\n",
       "      <td>3.606679e-322</td>\n",
       "      <td>0.000000e+00</td>\n",
       "      <td>2.156102e-320</td>\n",
       "      <td>0.000000e+00</td>\n",
       "      <td>0.0</td>\n",
       "      <td>2.192169e-320</td>\n",
       "    </tr>\n",
       "  </tbody>\n",
       "</table>\n",
       "</div>"
      ],
      "text/plain": [
       "            PRAD           LUAD           BRCA           KIRC  COAD  \\\n",
       "0  3.458460e-323   0.000000e+00   0.000000e+00   0.000000e+00   0.0   \n",
       "1  2.583963e-321  1.027380e-318   0.000000e+00  2.872673e-308   0.0   \n",
       "2  1.047419e-321   0.000000e+00   0.000000e+00   0.000000e+00   0.0   \n",
       "3  7.855644e-322   0.000000e+00   0.000000e+00   0.000000e+00   0.0   \n",
       "4  3.606679e-322   0.000000e+00  2.156102e-320   0.000000e+00   0.0   \n",
       "\n",
       "             sum  \n",
       "0  3.458460e-323  \n",
       "1  2.872673e-308  \n",
       "2  1.047419e-321  \n",
       "3  7.855644e-322  \n",
       "4  2.192169e-320  "
      ]
     },
     "execution_count": 32,
     "metadata": {},
     "output_type": "execute_result"
    }
   ],
   "source": [
    "# take the sum of all of the calculated class probabilities\n",
    "\n",
    "for i in range(len(prob_df)):\n",
    "    prob_df.loc[i, 'sum'] = sum(prob_df.iloc[i, 0:5])\n",
    "prob_df.head()"
   ]
  },
  {
   "cell_type": "code",
   "execution_count": 33,
   "metadata": {},
   "outputs": [
    {
     "data": {
      "text/html": [
       "<div>\n",
       "<style>\n",
       "    .dataframe thead tr:only-child th {\n",
       "        text-align: right;\n",
       "    }\n",
       "\n",
       "    .dataframe thead th {\n",
       "        text-align: left;\n",
       "    }\n",
       "\n",
       "    .dataframe tbody tr th {\n",
       "        vertical-align: top;\n",
       "    }\n",
       "</style>\n",
       "<table border=\"1\" class=\"dataframe\">\n",
       "  <thead>\n",
       "    <tr style=\"text-align: right;\">\n",
       "      <th></th>\n",
       "      <th>PRAD</th>\n",
       "      <th>LUAD</th>\n",
       "      <th>BRCA</th>\n",
       "      <th>KIRC</th>\n",
       "      <th>COAD</th>\n",
       "      <th>sum</th>\n",
       "    </tr>\n",
       "  </thead>\n",
       "  <tbody>\n",
       "    <tr>\n",
       "      <th>0</th>\n",
       "      <td>1.000000e+00</td>\n",
       "      <td>0.000000e+00</td>\n",
       "      <td>0.000000</td>\n",
       "      <td>0.0</td>\n",
       "      <td>0.0</td>\n",
       "      <td>3.458460e-323</td>\n",
       "    </tr>\n",
       "    <tr>\n",
       "      <th>1</th>\n",
       "      <td>8.994978e-14</td>\n",
       "      <td>3.576390e-11</td>\n",
       "      <td>0.000000</td>\n",
       "      <td>1.0</td>\n",
       "      <td>0.0</td>\n",
       "      <td>2.872673e-308</td>\n",
       "    </tr>\n",
       "    <tr>\n",
       "      <th>2</th>\n",
       "      <td>1.000000e+00</td>\n",
       "      <td>0.000000e+00</td>\n",
       "      <td>0.000000</td>\n",
       "      <td>0.0</td>\n",
       "      <td>0.0</td>\n",
       "      <td>1.047419e-321</td>\n",
       "    </tr>\n",
       "    <tr>\n",
       "      <th>3</th>\n",
       "      <td>1.000000e+00</td>\n",
       "      <td>0.000000e+00</td>\n",
       "      <td>0.000000</td>\n",
       "      <td>0.0</td>\n",
       "      <td>0.0</td>\n",
       "      <td>7.855644e-322</td>\n",
       "    </tr>\n",
       "    <tr>\n",
       "      <th>4</th>\n",
       "      <td>1.645256e-02</td>\n",
       "      <td>0.000000e+00</td>\n",
       "      <td>0.983547</td>\n",
       "      <td>0.0</td>\n",
       "      <td>0.0</td>\n",
       "      <td>2.192169e-320</td>\n",
       "    </tr>\n",
       "  </tbody>\n",
       "</table>\n",
       "</div>"
      ],
      "text/plain": [
       "           PRAD          LUAD      BRCA  KIRC  COAD            sum\n",
       "0  1.000000e+00  0.000000e+00  0.000000   0.0   0.0  3.458460e-323\n",
       "1  8.994978e-14  3.576390e-11  0.000000   1.0   0.0  2.872673e-308\n",
       "2  1.000000e+00  0.000000e+00  0.000000   0.0   0.0  1.047419e-321\n",
       "3  1.000000e+00  0.000000e+00  0.000000   0.0   0.0  7.855644e-322\n",
       "4  1.645256e-02  0.000000e+00  0.983547   0.0   0.0  2.192169e-320"
      ]
     },
     "execution_count": 33,
     "metadata": {},
     "output_type": "execute_result"
    }
   ],
   "source": [
    "# divide the probability of each class geiven theta by the sum of the probabilities to get the \n",
    "# normalized probability\n",
    "\n",
    "prob_df[\"PRAD\"] = prob_df[\"PRAD\"]/prob_df['sum']\n",
    "prob_df[\"LUAD\"] = prob_df[\"LUAD\"]/prob_df['sum']\n",
    "prob_df[\"BRCA\"] = prob_df[\"BRCA\"]/prob_df['sum']\n",
    "prob_df[\"KIRC\"] = prob_df[\"KIRC\"]/prob_df['sum']\n",
    "prob_df[\"COAD\"] = prob_df[\"COAD\"]/prob_df['sum']\n",
    "prob_df.head()"
   ]
  },
  {
   "cell_type": "code",
   "execution_count": 34,
   "metadata": {},
   "outputs": [
    {
     "name": "stdout",
     "output_type": "stream",
     "text": [
      "PRAD    391\n",
      "BRCA    203\n",
      "KIRC    152\n",
      "LUAD     43\n",
      "COAD     12\n",
      "Name: pred, dtype: int64\n",
      "BRCA    300\n",
      "KIRC    146\n",
      "LUAD    141\n",
      "PRAD    136\n",
      "COAD     78\n",
      "Name: Class, dtype: int64\n"
     ]
    }
   ],
   "source": [
    "# predict the class of each observation by finding the class with the highest probability for each obs.\n",
    "prob_df['pred'] = prob_df.iloc[:, 0:5].idxmax(axis = 1)\n",
    "print(prob_df['pred'].value_counts())\n",
    "print(y.value_counts())"
   ]
  },
  {
   "cell_type": "code",
   "execution_count": 35,
   "metadata": {
    "collapsed": true
   },
   "outputs": [],
   "source": [
    "# initialize columns for the ground truth label and an indicator of whether the prediction is correct\n",
    "prob_df['groundtruth'] = y\n",
    "prob_df['correct'] = np.nan"
   ]
  },
  {
   "cell_type": "code",
   "execution_count": 36,
   "metadata": {},
   "outputs": [
    {
     "data": {
      "text/html": [
       "<div>\n",
       "<style>\n",
       "    .dataframe thead tr:only-child th {\n",
       "        text-align: right;\n",
       "    }\n",
       "\n",
       "    .dataframe thead th {\n",
       "        text-align: left;\n",
       "    }\n",
       "\n",
       "    .dataframe tbody tr th {\n",
       "        vertical-align: top;\n",
       "    }\n",
       "</style>\n",
       "<table border=\"1\" class=\"dataframe\">\n",
       "  <thead>\n",
       "    <tr style=\"text-align: right;\">\n",
       "      <th></th>\n",
       "      <th>PRAD</th>\n",
       "      <th>LUAD</th>\n",
       "      <th>BRCA</th>\n",
       "      <th>KIRC</th>\n",
       "      <th>COAD</th>\n",
       "      <th>sum</th>\n",
       "      <th>pred</th>\n",
       "      <th>groundtruth</th>\n",
       "      <th>correct</th>\n",
       "    </tr>\n",
       "  </thead>\n",
       "  <tbody>\n",
       "    <tr>\n",
       "      <th>0</th>\n",
       "      <td>1.000000e+00</td>\n",
       "      <td>0.000000e+00</td>\n",
       "      <td>0.000000</td>\n",
       "      <td>0.0</td>\n",
       "      <td>0.0</td>\n",
       "      <td>3.458460e-323</td>\n",
       "      <td>PRAD</td>\n",
       "      <td>PRAD</td>\n",
       "      <td>1.0</td>\n",
       "    </tr>\n",
       "    <tr>\n",
       "      <th>1</th>\n",
       "      <td>8.994978e-14</td>\n",
       "      <td>3.576390e-11</td>\n",
       "      <td>0.000000</td>\n",
       "      <td>1.0</td>\n",
       "      <td>0.0</td>\n",
       "      <td>2.872673e-308</td>\n",
       "      <td>KIRC</td>\n",
       "      <td>LUAD</td>\n",
       "      <td>0.0</td>\n",
       "    </tr>\n",
       "    <tr>\n",
       "      <th>2</th>\n",
       "      <td>1.000000e+00</td>\n",
       "      <td>0.000000e+00</td>\n",
       "      <td>0.000000</td>\n",
       "      <td>0.0</td>\n",
       "      <td>0.0</td>\n",
       "      <td>1.047419e-321</td>\n",
       "      <td>PRAD</td>\n",
       "      <td>PRAD</td>\n",
       "      <td>1.0</td>\n",
       "    </tr>\n",
       "    <tr>\n",
       "      <th>3</th>\n",
       "      <td>1.000000e+00</td>\n",
       "      <td>0.000000e+00</td>\n",
       "      <td>0.000000</td>\n",
       "      <td>0.0</td>\n",
       "      <td>0.0</td>\n",
       "      <td>7.855644e-322</td>\n",
       "      <td>PRAD</td>\n",
       "      <td>PRAD</td>\n",
       "      <td>1.0</td>\n",
       "    </tr>\n",
       "    <tr>\n",
       "      <th>4</th>\n",
       "      <td>1.645256e-02</td>\n",
       "      <td>0.000000e+00</td>\n",
       "      <td>0.983547</td>\n",
       "      <td>0.0</td>\n",
       "      <td>0.0</td>\n",
       "      <td>2.192169e-320</td>\n",
       "      <td>BRCA</td>\n",
       "      <td>BRCA</td>\n",
       "      <td>1.0</td>\n",
       "    </tr>\n",
       "  </tbody>\n",
       "</table>\n",
       "</div>"
      ],
      "text/plain": [
       "           PRAD          LUAD      BRCA  KIRC  COAD            sum  pred  \\\n",
       "0  1.000000e+00  0.000000e+00  0.000000   0.0   0.0  3.458460e-323  PRAD   \n",
       "1  8.994978e-14  3.576390e-11  0.000000   1.0   0.0  2.872673e-308  KIRC   \n",
       "2  1.000000e+00  0.000000e+00  0.000000   0.0   0.0  1.047419e-321  PRAD   \n",
       "3  1.000000e+00  0.000000e+00  0.000000   0.0   0.0  7.855644e-322  PRAD   \n",
       "4  1.645256e-02  0.000000e+00  0.983547   0.0   0.0  2.192169e-320  BRCA   \n",
       "\n",
       "  groundtruth  correct  \n",
       "0        PRAD      1.0  \n",
       "1        LUAD      0.0  \n",
       "2        PRAD      1.0  \n",
       "3        PRAD      1.0  \n",
       "4        BRCA      1.0  "
      ]
     },
     "execution_count": 36,
     "metadata": {},
     "output_type": "execute_result"
    }
   ],
   "source": [
    "#determine the accuracy\n",
    "\n",
    "for i in range(801):\n",
    "    if prob_df.loc[i, 'pred'] == prob_df.loc[i, 'groundtruth']:\n",
    "        prob_df.loc[i, 'correct'] = 1\n",
    "    else: \n",
    "        prob_df.loc[i, 'correct'] = 0\n",
    "prob_df.head()"
   ]
  },
  {
   "cell_type": "code",
   "execution_count": 37,
   "metadata": {},
   "outputs": [
    {
     "data": {
      "text/plain": [
       "404.0"
      ]
     },
     "execution_count": 37,
     "metadata": {},
     "output_type": "execute_result"
    }
   ],
   "source": [
    "# find the total number of correct predictions\n",
    "\n",
    "total_correct = sum(prob_df['correct'])\n",
    "total_correct"
   ]
  },
  {
   "cell_type": "code",
   "execution_count": 38,
   "metadata": {},
   "outputs": [
    {
     "name": "stdout",
     "output_type": "stream",
     "text": [
      "Accuracy of Expectation Maximization classifier on test set: 0.50\n"
     ]
    }
   ],
   "source": [
    "# calculate the percentage of correct observations\n",
    "\n",
    "print('Accuracy of Expectation Maximization classifier on test set: {:.2f}'.format(total_correct/len(prob_df)))"
   ]
  },
  {
   "cell_type": "code",
   "execution_count": 39,
   "metadata": {},
   "outputs": [
    {
     "data": {
      "image/png": "[encoded data removed]",
      "text/plain": [
       "<matplotlib.figure.Figure at 0x24b821dc9b0>"
      ]
     },
     "metadata": {},
     "output_type": "display_data"
    }
   ],
   "source": [
    "# show distribution of EM predictions\n",
    "h1 = plt.hist(np.array(prob_df[\"pred\"]), bins=20,normed=False,histtype='stepfilled',alpha=0.8); "
   ]
  }
 ],
 "metadata": {
  "kernelspec": {
   "display_name": "Python 3",
   "language": "python",
   "name": "python3"
  },
  "language_info": {
   "codemirror_mode": {
    "name": "ipython",
    "version": 3
   },
   "file_extension": ".py",
   "mimetype": "text/x-python",
   "name": "python",
   "nbconvert_exporter": "python",
   "pygments_lexer": "ipython3",
   "version": "3.6.3"
  }
 },
 "nbformat": 4,
 "nbformat_minor": 2
}
