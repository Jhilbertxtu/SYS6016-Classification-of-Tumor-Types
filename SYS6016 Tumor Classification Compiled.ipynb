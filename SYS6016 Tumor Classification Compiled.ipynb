{
 "cells": [
  {
   "cell_type": "markdown",
   "metadata": {},
   "source": [
    "# Classification of Tumor Samples using Gene Expression Data\n",
    "* Caitlin Dresibach\n",
    "* Elizabeth Homan\n",
    "* Morgan Wall"
   ]
  },
  {
   "cell_type": "markdown",
   "metadata": {},
   "source": [
    "### Coding References: \n",
    "* https://gist.github.com/bistaumanga/6023716\n",
    "* https://github.com/ubdsgroup/ubmlcourse/blob/master/notebooks/MixtureModels.ipynb"
   ]
  },
  {
   "cell_type": "markdown",
   "metadata": {},
   "source": [
    "## Import Libraries and Read in the Data"
   ]
  },
  {
   "cell_type": "code",
   "execution_count": 1,
   "metadata": {
    "collapsed": false
   },
   "outputs": [
    {
     "name": "stderr",
     "output_type": "stream",
     "text": [
      "//anaconda/lib/python3.5/site-packages/sklearn/cross_validation.py:41: DeprecationWarning: This module was deprecated in version 0.18 in favor of the model_selection module into which all the refactored classes and functions are moved. Also note that the interface of the new CV iterators are different from that of this module. This module will be removed in 0.20.\n",
      "  \"This module will be removed in 0.20.\", DeprecationWarning)\n"
     ]
    }
   ],
   "source": [
    "import numpy as np\n",
    "import pandas as pd\n",
    "import requests\n",
    "import string as st\n",
    "import os\n",
    "import csv\n",
    "import re\n",
    "import random\n",
    "import csv\n",
    "import math\n",
    "\n",
    "#For general + logistic regression\n",
    "from sklearn import datasets\n",
    "from sklearn import preprocessing\n",
    "from sklearn import metrics\n",
    "from sklearn.feature_selection import RFE\n",
    "from sklearn.linear_model import LogisticRegression\n",
    "from sklearn.cross_validation import train_test_split\n",
    "from sklearn.metrics import roc_curve, auc, confusion_matrix\n",
    "\n",
    "#For EM\n",
    "import scipy.stats as st\n",
    "from scipy.stats import norm,bernoulli\n",
    "from scipy.optimize import minimize, show_options\n",
    "from mpl_toolkits.mplot3d import Axes3D\n",
    "from collections import namedtuple\n",
    "\n",
    "#For naive bayes\n",
    "from sklearn.naive_bayes import GaussianNB\n",
    "from sklearn.naive_bayes import BernoulliNB\n",
    "from sklearn.model_selection import cross_val_score\n",
    "from sklearn.preprocessing import StandardScaler\n",
    "\n",
    "#For plotting\n",
    "import matplotlib.pyplot as plt\n",
    "import seaborn as sns\n",
    "%matplotlib inline"
   ]
  },
  {
   "cell_type": "code",
   "execution_count": 2,
   "metadata": {
    "collapsed": true
   },
   "outputs": [],
   "source": [
    "#Set path for files (data, labels, and gene rankings), assuming you are in the correct directory\n",
    "data = 'data.csv'\n",
    "labels = 'labels.csv'\n",
    "rankings = 'rferankings10.txt'"
   ]
  },
  {
   "cell_type": "code",
   "execution_count": 3,
   "metadata": {
    "collapsed": false
   },
   "outputs": [],
   "source": [
    "#Read in data\n",
    "df1 = pd.read_csv(data, encoding= \"ISO-8859-1\", low_memory=False)"
   ]
  },
  {
   "cell_type": "code",
   "execution_count": 4,
   "metadata": {
    "collapsed": true
   },
   "outputs": [],
   "source": [
    "#Read in labels\n",
    "labels = pd.read_csv(labels, encoding= \"ISO-8859-1\", low_memory=False)"
   ]
  },
  {
   "cell_type": "code",
   "execution_count": 5,
   "metadata": {
    "collapsed": true
   },
   "outputs": [],
   "source": [
    "#Read in rankings\n",
    "ranks = pd.read_table(rankings, encoding= \"ISO-8859-1\", low_memory=False, header = None)"
   ]
  },
  {
   "cell_type": "markdown",
   "metadata": {},
   "source": [
    "## Preprocessing and Data Exploration"
   ]
  },
  {
   "cell_type": "code",
   "execution_count": 6,
   "metadata": {
    "collapsed": false
   },
   "outputs": [
    {
     "data": {
      "text/html": [
       "<div>\n",
       "<style scoped>\n",
       "    .dataframe tbody tr th:only-of-type {\n",
       "        vertical-align: middle;\n",
       "    }\n",
       "\n",
       "    .dataframe tbody tr th {\n",
       "        vertical-align: top;\n",
       "    }\n",
       "\n",
       "    .dataframe thead th {\n",
       "        text-align: right;\n",
       "    }\n",
       "</style>\n",
       "<table border=\"1\" class=\"dataframe\">\n",
       "  <thead>\n",
       "    <tr style=\"text-align: right;\">\n",
       "      <th></th>\n",
       "      <th>Unnamed: 0</th>\n",
       "      <th>gene_0</th>\n",
       "      <th>gene_1</th>\n",
       "      <th>gene_2</th>\n",
       "      <th>gene_3</th>\n",
       "      <th>gene_4</th>\n",
       "      <th>gene_5</th>\n",
       "      <th>gene_6</th>\n",
       "      <th>gene_7</th>\n",
       "      <th>gene_8</th>\n",
       "      <th>...</th>\n",
       "      <th>gene_20521</th>\n",
       "      <th>gene_20522</th>\n",
       "      <th>gene_20523</th>\n",
       "      <th>gene_20524</th>\n",
       "      <th>gene_20525</th>\n",
       "      <th>gene_20526</th>\n",
       "      <th>gene_20527</th>\n",
       "      <th>gene_20528</th>\n",
       "      <th>gene_20529</th>\n",
       "      <th>gene_20530</th>\n",
       "    </tr>\n",
       "  </thead>\n",
       "  <tbody>\n",
       "    <tr>\n",
       "      <th>0</th>\n",
       "      <td>sample_0</td>\n",
       "      <td>0.0</td>\n",
       "      <td>2.017209</td>\n",
       "      <td>3.265527</td>\n",
       "      <td>5.478487</td>\n",
       "      <td>10.431999</td>\n",
       "      <td>0.0</td>\n",
       "      <td>7.175175</td>\n",
       "      <td>0.591871</td>\n",
       "      <td>0.0</td>\n",
       "      <td>...</td>\n",
       "      <td>4.926711</td>\n",
       "      <td>8.210257</td>\n",
       "      <td>9.723516</td>\n",
       "      <td>7.220030</td>\n",
       "      <td>9.119813</td>\n",
       "      <td>12.003135</td>\n",
       "      <td>9.650743</td>\n",
       "      <td>8.921326</td>\n",
       "      <td>5.286759</td>\n",
       "      <td>0.0</td>\n",
       "    </tr>\n",
       "    <tr>\n",
       "      <th>1</th>\n",
       "      <td>sample_1</td>\n",
       "      <td>0.0</td>\n",
       "      <td>0.592732</td>\n",
       "      <td>1.588421</td>\n",
       "      <td>7.586157</td>\n",
       "      <td>9.623011</td>\n",
       "      <td>0.0</td>\n",
       "      <td>6.816049</td>\n",
       "      <td>0.000000</td>\n",
       "      <td>0.0</td>\n",
       "      <td>...</td>\n",
       "      <td>4.593372</td>\n",
       "      <td>7.323865</td>\n",
       "      <td>9.740931</td>\n",
       "      <td>6.256586</td>\n",
       "      <td>8.381612</td>\n",
       "      <td>12.674552</td>\n",
       "      <td>10.517059</td>\n",
       "      <td>9.397854</td>\n",
       "      <td>2.094168</td>\n",
       "      <td>0.0</td>\n",
       "    </tr>\n",
       "    <tr>\n",
       "      <th>2</th>\n",
       "      <td>sample_2</td>\n",
       "      <td>0.0</td>\n",
       "      <td>3.511759</td>\n",
       "      <td>4.327199</td>\n",
       "      <td>6.881787</td>\n",
       "      <td>9.870730</td>\n",
       "      <td>0.0</td>\n",
       "      <td>6.972130</td>\n",
       "      <td>0.452595</td>\n",
       "      <td>0.0</td>\n",
       "      <td>...</td>\n",
       "      <td>5.125213</td>\n",
       "      <td>8.127123</td>\n",
       "      <td>10.908640</td>\n",
       "      <td>5.401607</td>\n",
       "      <td>9.911597</td>\n",
       "      <td>9.045255</td>\n",
       "      <td>9.788359</td>\n",
       "      <td>10.090470</td>\n",
       "      <td>1.683023</td>\n",
       "      <td>0.0</td>\n",
       "    </tr>\n",
       "    <tr>\n",
       "      <th>3</th>\n",
       "      <td>sample_3</td>\n",
       "      <td>0.0</td>\n",
       "      <td>3.663618</td>\n",
       "      <td>4.507649</td>\n",
       "      <td>6.659068</td>\n",
       "      <td>10.196184</td>\n",
       "      <td>0.0</td>\n",
       "      <td>7.843375</td>\n",
       "      <td>0.434882</td>\n",
       "      <td>0.0</td>\n",
       "      <td>...</td>\n",
       "      <td>6.076566</td>\n",
       "      <td>8.792959</td>\n",
       "      <td>10.141520</td>\n",
       "      <td>8.942805</td>\n",
       "      <td>9.601208</td>\n",
       "      <td>11.392682</td>\n",
       "      <td>9.694814</td>\n",
       "      <td>9.684365</td>\n",
       "      <td>3.292001</td>\n",
       "      <td>0.0</td>\n",
       "    </tr>\n",
       "    <tr>\n",
       "      <th>4</th>\n",
       "      <td>sample_4</td>\n",
       "      <td>0.0</td>\n",
       "      <td>2.655741</td>\n",
       "      <td>2.821547</td>\n",
       "      <td>6.539454</td>\n",
       "      <td>9.738265</td>\n",
       "      <td>0.0</td>\n",
       "      <td>6.566967</td>\n",
       "      <td>0.360982</td>\n",
       "      <td>0.0</td>\n",
       "      <td>...</td>\n",
       "      <td>5.996032</td>\n",
       "      <td>8.891425</td>\n",
       "      <td>10.373790</td>\n",
       "      <td>7.181162</td>\n",
       "      <td>9.846910</td>\n",
       "      <td>11.922439</td>\n",
       "      <td>9.217749</td>\n",
       "      <td>9.461191</td>\n",
       "      <td>5.110372</td>\n",
       "      <td>0.0</td>\n",
       "    </tr>\n",
       "  </tbody>\n",
       "</table>\n",
       "<p>5 rows × 20532 columns</p>\n",
       "</div>"
      ],
      "text/plain": [
       "  Unnamed: 0  gene_0    gene_1    gene_2    gene_3     gene_4  gene_5  \\\n",
       "0   sample_0     0.0  2.017209  3.265527  5.478487  10.431999     0.0   \n",
       "1   sample_1     0.0  0.592732  1.588421  7.586157   9.623011     0.0   \n",
       "2   sample_2     0.0  3.511759  4.327199  6.881787   9.870730     0.0   \n",
       "3   sample_3     0.0  3.663618  4.507649  6.659068  10.196184     0.0   \n",
       "4   sample_4     0.0  2.655741  2.821547  6.539454   9.738265     0.0   \n",
       "\n",
       "     gene_6    gene_7  gene_8     ...      gene_20521  gene_20522  gene_20523  \\\n",
       "0  7.175175  0.591871     0.0     ...        4.926711    8.210257    9.723516   \n",
       "1  6.816049  0.000000     0.0     ...        4.593372    7.323865    9.740931   \n",
       "2  6.972130  0.452595     0.0     ...        5.125213    8.127123   10.908640   \n",
       "3  7.843375  0.434882     0.0     ...        6.076566    8.792959   10.141520   \n",
       "4  6.566967  0.360982     0.0     ...        5.996032    8.891425   10.373790   \n",
       "\n",
       "   gene_20524  gene_20525  gene_20526  gene_20527  gene_20528  gene_20529  \\\n",
       "0    7.220030    9.119813   12.003135    9.650743    8.921326    5.286759   \n",
       "1    6.256586    8.381612   12.674552   10.517059    9.397854    2.094168   \n",
       "2    5.401607    9.911597    9.045255    9.788359   10.090470    1.683023   \n",
       "3    8.942805    9.601208   11.392682    9.694814    9.684365    3.292001   \n",
       "4    7.181162    9.846910   11.922439    9.217749    9.461191    5.110372   \n",
       "\n",
       "   gene_20530  \n",
       "0         0.0  \n",
       "1         0.0  \n",
       "2         0.0  \n",
       "3         0.0  \n",
       "4         0.0  \n",
       "\n",
       "[5 rows x 20532 columns]"
      ]
     },
     "execution_count": 6,
     "metadata": {},
     "output_type": "execute_result"
    }
   ],
   "source": [
    "df1.head()"
   ]
  },
  {
   "cell_type": "code",
   "execution_count": 7,
   "metadata": {
    "collapsed": false
   },
   "outputs": [
    {
     "data": {
      "text/html": [
       "<div>\n",
       "<style scoped>\n",
       "    .dataframe tbody tr th:only-of-type {\n",
       "        vertical-align: middle;\n",
       "    }\n",
       "\n",
       "    .dataframe tbody tr th {\n",
       "        vertical-align: top;\n",
       "    }\n",
       "\n",
       "    .dataframe thead th {\n",
       "        text-align: right;\n",
       "    }\n",
       "</style>\n",
       "<table border=\"1\" class=\"dataframe\">\n",
       "  <thead>\n",
       "    <tr style=\"text-align: right;\">\n",
       "      <th></th>\n",
       "      <th>Unnamed: 0</th>\n",
       "      <th>Class</th>\n",
       "    </tr>\n",
       "  </thead>\n",
       "  <tbody>\n",
       "    <tr>\n",
       "      <th>0</th>\n",
       "      <td>sample_0</td>\n",
       "      <td>PRAD</td>\n",
       "    </tr>\n",
       "    <tr>\n",
       "      <th>1</th>\n",
       "      <td>sample_1</td>\n",
       "      <td>LUAD</td>\n",
       "    </tr>\n",
       "    <tr>\n",
       "      <th>2</th>\n",
       "      <td>sample_2</td>\n",
       "      <td>PRAD</td>\n",
       "    </tr>\n",
       "    <tr>\n",
       "      <th>3</th>\n",
       "      <td>sample_3</td>\n",
       "      <td>PRAD</td>\n",
       "    </tr>\n",
       "    <tr>\n",
       "      <th>4</th>\n",
       "      <td>sample_4</td>\n",
       "      <td>BRCA</td>\n",
       "    </tr>\n",
       "  </tbody>\n",
       "</table>\n",
       "</div>"
      ],
      "text/plain": [
       "  Unnamed: 0 Class\n",
       "0   sample_0  PRAD\n",
       "1   sample_1  LUAD\n",
       "2   sample_2  PRAD\n",
       "3   sample_3  PRAD\n",
       "4   sample_4  BRCA"
      ]
     },
     "execution_count": 7,
     "metadata": {},
     "output_type": "execute_result"
    }
   ],
   "source": [
    "labels.head()"
   ]
  },
  {
   "cell_type": "code",
   "execution_count": 8,
   "metadata": {
    "collapsed": true
   },
   "outputs": [],
   "source": [
    "#Add the class labels to the gene expression data\n",
    "df1[\"Class\"] = labels[\"Class\"]"
   ]
  },
  {
   "cell_type": "code",
   "execution_count": 9,
   "metadata": {
    "collapsed": true
   },
   "outputs": [],
   "source": [
    "#Drop first unnecessary column\n",
    "df2 = df1.drop(\"Unnamed: 0\", axis=1)"
   ]
  },
  {
   "cell_type": "code",
   "execution_count": 10,
   "metadata": {
    "collapsed": false
   },
   "outputs": [
    {
     "data": {
      "text/html": [
       "<div>\n",
       "<style scoped>\n",
       "    .dataframe tbody tr th:only-of-type {\n",
       "        vertical-align: middle;\n",
       "    }\n",
       "\n",
       "    .dataframe tbody tr th {\n",
       "        vertical-align: top;\n",
       "    }\n",
       "\n",
       "    .dataframe thead th {\n",
       "        text-align: right;\n",
       "    }\n",
       "</style>\n",
       "<table border=\"1\" class=\"dataframe\">\n",
       "  <thead>\n",
       "    <tr style=\"text-align: right;\">\n",
       "      <th></th>\n",
       "      <th>gene_0</th>\n",
       "      <th>gene_1</th>\n",
       "      <th>gene_2</th>\n",
       "      <th>gene_3</th>\n",
       "      <th>gene_4</th>\n",
       "      <th>gene_5</th>\n",
       "      <th>gene_6</th>\n",
       "      <th>gene_7</th>\n",
       "      <th>gene_8</th>\n",
       "      <th>gene_9</th>\n",
       "      <th>...</th>\n",
       "      <th>gene_20522</th>\n",
       "      <th>gene_20523</th>\n",
       "      <th>gene_20524</th>\n",
       "      <th>gene_20525</th>\n",
       "      <th>gene_20526</th>\n",
       "      <th>gene_20527</th>\n",
       "      <th>gene_20528</th>\n",
       "      <th>gene_20529</th>\n",
       "      <th>gene_20530</th>\n",
       "      <th>Class</th>\n",
       "    </tr>\n",
       "  </thead>\n",
       "  <tbody>\n",
       "    <tr>\n",
       "      <th>0</th>\n",
       "      <td>0.0</td>\n",
       "      <td>2.017209</td>\n",
       "      <td>3.265527</td>\n",
       "      <td>5.478487</td>\n",
       "      <td>10.431999</td>\n",
       "      <td>0.0</td>\n",
       "      <td>7.175175</td>\n",
       "      <td>0.591871</td>\n",
       "      <td>0.0</td>\n",
       "      <td>0.0</td>\n",
       "      <td>...</td>\n",
       "      <td>8.210257</td>\n",
       "      <td>9.723516</td>\n",
       "      <td>7.220030</td>\n",
       "      <td>9.119813</td>\n",
       "      <td>12.003135</td>\n",
       "      <td>9.650743</td>\n",
       "      <td>8.921326</td>\n",
       "      <td>5.286759</td>\n",
       "      <td>0.0</td>\n",
       "      <td>PRAD</td>\n",
       "    </tr>\n",
       "    <tr>\n",
       "      <th>1</th>\n",
       "      <td>0.0</td>\n",
       "      <td>0.592732</td>\n",
       "      <td>1.588421</td>\n",
       "      <td>7.586157</td>\n",
       "      <td>9.623011</td>\n",
       "      <td>0.0</td>\n",
       "      <td>6.816049</td>\n",
       "      <td>0.000000</td>\n",
       "      <td>0.0</td>\n",
       "      <td>0.0</td>\n",
       "      <td>...</td>\n",
       "      <td>7.323865</td>\n",
       "      <td>9.740931</td>\n",
       "      <td>6.256586</td>\n",
       "      <td>8.381612</td>\n",
       "      <td>12.674552</td>\n",
       "      <td>10.517059</td>\n",
       "      <td>9.397854</td>\n",
       "      <td>2.094168</td>\n",
       "      <td>0.0</td>\n",
       "      <td>LUAD</td>\n",
       "    </tr>\n",
       "    <tr>\n",
       "      <th>2</th>\n",
       "      <td>0.0</td>\n",
       "      <td>3.511759</td>\n",
       "      <td>4.327199</td>\n",
       "      <td>6.881787</td>\n",
       "      <td>9.870730</td>\n",
       "      <td>0.0</td>\n",
       "      <td>6.972130</td>\n",
       "      <td>0.452595</td>\n",
       "      <td>0.0</td>\n",
       "      <td>0.0</td>\n",
       "      <td>...</td>\n",
       "      <td>8.127123</td>\n",
       "      <td>10.908640</td>\n",
       "      <td>5.401607</td>\n",
       "      <td>9.911597</td>\n",
       "      <td>9.045255</td>\n",
       "      <td>9.788359</td>\n",
       "      <td>10.090470</td>\n",
       "      <td>1.683023</td>\n",
       "      <td>0.0</td>\n",
       "      <td>PRAD</td>\n",
       "    </tr>\n",
       "    <tr>\n",
       "      <th>3</th>\n",
       "      <td>0.0</td>\n",
       "      <td>3.663618</td>\n",
       "      <td>4.507649</td>\n",
       "      <td>6.659068</td>\n",
       "      <td>10.196184</td>\n",
       "      <td>0.0</td>\n",
       "      <td>7.843375</td>\n",
       "      <td>0.434882</td>\n",
       "      <td>0.0</td>\n",
       "      <td>0.0</td>\n",
       "      <td>...</td>\n",
       "      <td>8.792959</td>\n",
       "      <td>10.141520</td>\n",
       "      <td>8.942805</td>\n",
       "      <td>9.601208</td>\n",
       "      <td>11.392682</td>\n",
       "      <td>9.694814</td>\n",
       "      <td>9.684365</td>\n",
       "      <td>3.292001</td>\n",
       "      <td>0.0</td>\n",
       "      <td>PRAD</td>\n",
       "    </tr>\n",
       "    <tr>\n",
       "      <th>4</th>\n",
       "      <td>0.0</td>\n",
       "      <td>2.655741</td>\n",
       "      <td>2.821547</td>\n",
       "      <td>6.539454</td>\n",
       "      <td>9.738265</td>\n",
       "      <td>0.0</td>\n",
       "      <td>6.566967</td>\n",
       "      <td>0.360982</td>\n",
       "      <td>0.0</td>\n",
       "      <td>0.0</td>\n",
       "      <td>...</td>\n",
       "      <td>8.891425</td>\n",
       "      <td>10.373790</td>\n",
       "      <td>7.181162</td>\n",
       "      <td>9.846910</td>\n",
       "      <td>11.922439</td>\n",
       "      <td>9.217749</td>\n",
       "      <td>9.461191</td>\n",
       "      <td>5.110372</td>\n",
       "      <td>0.0</td>\n",
       "      <td>BRCA</td>\n",
       "    </tr>\n",
       "  </tbody>\n",
       "</table>\n",
       "<p>5 rows × 20532 columns</p>\n",
       "</div>"
      ],
      "text/plain": [
       "   gene_0    gene_1    gene_2    gene_3     gene_4  gene_5    gene_6  \\\n",
       "0     0.0  2.017209  3.265527  5.478487  10.431999     0.0  7.175175   \n",
       "1     0.0  0.592732  1.588421  7.586157   9.623011     0.0  6.816049   \n",
       "2     0.0  3.511759  4.327199  6.881787   9.870730     0.0  6.972130   \n",
       "3     0.0  3.663618  4.507649  6.659068  10.196184     0.0  7.843375   \n",
       "4     0.0  2.655741  2.821547  6.539454   9.738265     0.0  6.566967   \n",
       "\n",
       "     gene_7  gene_8  gene_9  ...    gene_20522  gene_20523  gene_20524  \\\n",
       "0  0.591871     0.0     0.0  ...      8.210257    9.723516    7.220030   \n",
       "1  0.000000     0.0     0.0  ...      7.323865    9.740931    6.256586   \n",
       "2  0.452595     0.0     0.0  ...      8.127123   10.908640    5.401607   \n",
       "3  0.434882     0.0     0.0  ...      8.792959   10.141520    8.942805   \n",
       "4  0.360982     0.0     0.0  ...      8.891425   10.373790    7.181162   \n",
       "\n",
       "   gene_20525  gene_20526  gene_20527  gene_20528  gene_20529  gene_20530  \\\n",
       "0    9.119813   12.003135    9.650743    8.921326    5.286759         0.0   \n",
       "1    8.381612   12.674552   10.517059    9.397854    2.094168         0.0   \n",
       "2    9.911597    9.045255    9.788359   10.090470    1.683023         0.0   \n",
       "3    9.601208   11.392682    9.694814    9.684365    3.292001         0.0   \n",
       "4    9.846910   11.922439    9.217749    9.461191    5.110372         0.0   \n",
       "\n",
       "   Class  \n",
       "0   PRAD  \n",
       "1   LUAD  \n",
       "2   PRAD  \n",
       "3   PRAD  \n",
       "4   BRCA  \n",
       "\n",
       "[5 rows x 20532 columns]"
      ]
     },
     "execution_count": 10,
     "metadata": {},
     "output_type": "execute_result"
    }
   ],
   "source": [
    "df2.head()"
   ]
  },
  {
   "cell_type": "code",
   "execution_count": 11,
   "metadata": {
    "collapsed": false
   },
   "outputs": [
    {
     "data": {
      "text/plain": [
       "0"
      ]
     },
     "execution_count": 11,
     "metadata": {},
     "output_type": "execute_result"
    }
   ],
   "source": [
    "df2.isnull().sum().sum() #No missing values"
   ]
  },
  {
   "cell_type": "code",
   "execution_count": 12,
   "metadata": {
    "collapsed": false
   },
   "outputs": [
    {
     "data": {
      "text/plain": [
       "dtype('O')"
      ]
     },
     "execution_count": 12,
     "metadata": {},
     "output_type": "execute_result"
    }
   ],
   "source": [
    "df2[\"Class\"].dtypes #Class data is all of object datatype"
   ]
  },
  {
   "cell_type": "code",
   "execution_count": 13,
   "metadata": {
    "collapsed": true
   },
   "outputs": [],
   "source": [
    "#Reassign class data as categorical\n",
    "df2[\"Class\"] = df2[\"Class\"].astype('category')"
   ]
  },
  {
   "cell_type": "code",
   "execution_count": 14,
   "metadata": {
    "collapsed": false
   },
   "outputs": [
    {
     "data": {
      "text/plain": [
       "CategoricalDtype(categories=['BRCA', 'COAD', 'KIRC', 'LUAD', 'PRAD'], ordered=False)"
      ]
     },
     "execution_count": 14,
     "metadata": {},
     "output_type": "execute_result"
    }
   ],
   "source": [
    "df2[\"Class\"].dtypes"
   ]
  },
  {
   "cell_type": "code",
   "execution_count": 15,
   "metadata": {
    "collapsed": false
   },
   "outputs": [
    {
     "data": {
      "text/plain": [
       "dtype('float64')"
      ]
     },
     "execution_count": 15,
     "metadata": {},
     "output_type": "execute_result"
    }
   ],
   "source": [
    "df2[\"gene_2\"].dtypes #Gene data is of the appropriate type"
   ]
  },
  {
   "cell_type": "code",
   "execution_count": 16,
   "metadata": {
    "collapsed": true
   },
   "outputs": [],
   "source": [
    "#Set x equal to gene expression data columns\n",
    "x = df2.loc[:,:\"gene_20530\"]"
   ]
  },
  {
   "cell_type": "code",
   "execution_count": 17,
   "metadata": {
    "collapsed": true
   },
   "outputs": [],
   "source": [
    "#Set y equal to target data column (tumor classes)\n",
    "y = df2.loc[:,\"Class\"]"
   ]
  },
  {
   "cell_type": "markdown",
   "metadata": {},
   "source": [
    "## Splitting Testing and Training"
   ]
  },
  {
   "cell_type": "code",
   "execution_count": 18,
   "metadata": {
    "collapsed": false
   },
   "outputs": [],
   "source": [
    "x_train, x_test, y_train, y_test = train_test_split(x, y, test_size=0.3, random_state=0)"
   ]
  },
  {
   "cell_type": "code",
   "execution_count": 19,
   "metadata": {
    "collapsed": false
   },
   "outputs": [
    {
     "data": {
      "text/html": [
       "<div>\n",
       "<style scoped>\n",
       "    .dataframe tbody tr th:only-of-type {\n",
       "        vertical-align: middle;\n",
       "    }\n",
       "\n",
       "    .dataframe tbody tr th {\n",
       "        vertical-align: top;\n",
       "    }\n",
       "\n",
       "    .dataframe thead th {\n",
       "        text-align: right;\n",
       "    }\n",
       "</style>\n",
       "<table border=\"1\" class=\"dataframe\">\n",
       "  <thead>\n",
       "    <tr style=\"text-align: right;\">\n",
       "      <th></th>\n",
       "      <th>gene_0</th>\n",
       "      <th>gene_1</th>\n",
       "      <th>gene_2</th>\n",
       "      <th>gene_3</th>\n",
       "      <th>gene_4</th>\n",
       "      <th>gene_5</th>\n",
       "      <th>gene_6</th>\n",
       "      <th>gene_7</th>\n",
       "      <th>gene_8</th>\n",
       "      <th>gene_9</th>\n",
       "      <th>...</th>\n",
       "      <th>gene_20521</th>\n",
       "      <th>gene_20522</th>\n",
       "      <th>gene_20523</th>\n",
       "      <th>gene_20524</th>\n",
       "      <th>gene_20525</th>\n",
       "      <th>gene_20526</th>\n",
       "      <th>gene_20527</th>\n",
       "      <th>gene_20528</th>\n",
       "      <th>gene_20529</th>\n",
       "      <th>gene_20530</th>\n",
       "    </tr>\n",
       "  </thead>\n",
       "  <tbody>\n",
       "    <tr>\n",
       "      <th>159</th>\n",
       "      <td>0.0</td>\n",
       "      <td>3.755902</td>\n",
       "      <td>4.589122</td>\n",
       "      <td>6.440992</td>\n",
       "      <td>9.438946</td>\n",
       "      <td>0.0</td>\n",
       "      <td>8.335864</td>\n",
       "      <td>0.560128</td>\n",
       "      <td>0.0</td>\n",
       "      <td>0.0</td>\n",
       "      <td>...</td>\n",
       "      <td>5.667046</td>\n",
       "      <td>8.342204</td>\n",
       "      <td>10.147587</td>\n",
       "      <td>6.502369</td>\n",
       "      <td>9.999013</td>\n",
       "      <td>12.114276</td>\n",
       "      <td>10.344673</td>\n",
       "      <td>9.110374</td>\n",
       "      <td>5.013878</td>\n",
       "      <td>0.0</td>\n",
       "    </tr>\n",
       "    <tr>\n",
       "      <th>337</th>\n",
       "      <td>0.0</td>\n",
       "      <td>2.683337</td>\n",
       "      <td>2.982327</td>\n",
       "      <td>7.381655</td>\n",
       "      <td>10.126149</td>\n",
       "      <td>0.0</td>\n",
       "      <td>7.664561</td>\n",
       "      <td>0.887603</td>\n",
       "      <td>0.0</td>\n",
       "      <td>0.0</td>\n",
       "      <td>...</td>\n",
       "      <td>6.338184</td>\n",
       "      <td>9.942045</td>\n",
       "      <td>10.217049</td>\n",
       "      <td>5.470976</td>\n",
       "      <td>9.274786</td>\n",
       "      <td>11.685511</td>\n",
       "      <td>11.121378</td>\n",
       "      <td>9.343414</td>\n",
       "      <td>4.203702</td>\n",
       "      <td>0.0</td>\n",
       "    </tr>\n",
       "    <tr>\n",
       "      <th>77</th>\n",
       "      <td>0.0</td>\n",
       "      <td>0.000000</td>\n",
       "      <td>3.193236</td>\n",
       "      <td>5.329328</td>\n",
       "      <td>10.415277</td>\n",
       "      <td>0.0</td>\n",
       "      <td>9.464960</td>\n",
       "      <td>1.602504</td>\n",
       "      <td>0.0</td>\n",
       "      <td>0.0</td>\n",
       "      <td>...</td>\n",
       "      <td>4.484454</td>\n",
       "      <td>7.517913</td>\n",
       "      <td>10.505970</td>\n",
       "      <td>6.003074</td>\n",
       "      <td>9.110966</td>\n",
       "      <td>11.380445</td>\n",
       "      <td>8.939041</td>\n",
       "      <td>8.730046</td>\n",
       "      <td>3.724650</td>\n",
       "      <td>0.0</td>\n",
       "    </tr>\n",
       "    <tr>\n",
       "      <th>651</th>\n",
       "      <td>0.0</td>\n",
       "      <td>3.391204</td>\n",
       "      <td>3.313725</td>\n",
       "      <td>7.066369</td>\n",
       "      <td>9.295190</td>\n",
       "      <td>0.0</td>\n",
       "      <td>8.349126</td>\n",
       "      <td>0.535655</td>\n",
       "      <td>0.0</td>\n",
       "      <td>0.0</td>\n",
       "      <td>...</td>\n",
       "      <td>6.379971</td>\n",
       "      <td>9.071114</td>\n",
       "      <td>10.190158</td>\n",
       "      <td>5.493926</td>\n",
       "      <td>9.874213</td>\n",
       "      <td>12.310908</td>\n",
       "      <td>10.311499</td>\n",
       "      <td>9.783647</td>\n",
       "      <td>8.501881</td>\n",
       "      <td>0.0</td>\n",
       "    </tr>\n",
       "    <tr>\n",
       "      <th>283</th>\n",
       "      <td>0.0</td>\n",
       "      <td>3.188433</td>\n",
       "      <td>3.802876</td>\n",
       "      <td>5.223307</td>\n",
       "      <td>10.039467</td>\n",
       "      <td>0.0</td>\n",
       "      <td>8.277924</td>\n",
       "      <td>0.712464</td>\n",
       "      <td>0.0</td>\n",
       "      <td>0.0</td>\n",
       "      <td>...</td>\n",
       "      <td>5.441779</td>\n",
       "      <td>8.521754</td>\n",
       "      <td>10.124044</td>\n",
       "      <td>6.462131</td>\n",
       "      <td>9.511608</td>\n",
       "      <td>11.523645</td>\n",
       "      <td>9.764497</td>\n",
       "      <td>8.457689</td>\n",
       "      <td>6.508402</td>\n",
       "      <td>0.0</td>\n",
       "    </tr>\n",
       "  </tbody>\n",
       "</table>\n",
       "<p>5 rows × 20531 columns</p>\n",
       "</div>"
      ],
      "text/plain": [
       "     gene_0    gene_1    gene_2    gene_3     gene_4  gene_5    gene_6  \\\n",
       "159     0.0  3.755902  4.589122  6.440992   9.438946     0.0  8.335864   \n",
       "337     0.0  2.683337  2.982327  7.381655  10.126149     0.0  7.664561   \n",
       "77      0.0  0.000000  3.193236  5.329328  10.415277     0.0  9.464960   \n",
       "651     0.0  3.391204  3.313725  7.066369   9.295190     0.0  8.349126   \n",
       "283     0.0  3.188433  3.802876  5.223307  10.039467     0.0  8.277924   \n",
       "\n",
       "       gene_7  gene_8  gene_9     ...      gene_20521  gene_20522  gene_20523  \\\n",
       "159  0.560128     0.0     0.0     ...        5.667046    8.342204   10.147587   \n",
       "337  0.887603     0.0     0.0     ...        6.338184    9.942045   10.217049   \n",
       "77   1.602504     0.0     0.0     ...        4.484454    7.517913   10.505970   \n",
       "651  0.535655     0.0     0.0     ...        6.379971    9.071114   10.190158   \n",
       "283  0.712464     0.0     0.0     ...        5.441779    8.521754   10.124044   \n",
       "\n",
       "     gene_20524  gene_20525  gene_20526  gene_20527  gene_20528  gene_20529  \\\n",
       "159    6.502369    9.999013   12.114276   10.344673    9.110374    5.013878   \n",
       "337    5.470976    9.274786   11.685511   11.121378    9.343414    4.203702   \n",
       "77     6.003074    9.110966   11.380445    8.939041    8.730046    3.724650   \n",
       "651    5.493926    9.874213   12.310908   10.311499    9.783647    8.501881   \n",
       "283    6.462131    9.511608   11.523645    9.764497    8.457689    6.508402   \n",
       "\n",
       "     gene_20530  \n",
       "159         0.0  \n",
       "337         0.0  \n",
       "77          0.0  \n",
       "651         0.0  \n",
       "283         0.0  \n",
       "\n",
       "[5 rows x 20531 columns]"
      ]
     },
     "execution_count": 19,
     "metadata": {},
     "output_type": "execute_result"
    }
   ],
   "source": [
    "x_train.head()"
   ]
  },
  {
   "cell_type": "code",
   "execution_count": 20,
   "metadata": {
    "collapsed": false
   },
   "outputs": [
    {
     "data": {
      "text/plain": [
       "159    LUAD\n",
       "337    BRCA\n",
       "77     KIRC\n",
       "651    BRCA\n",
       "283    LUAD\n",
       "Name: Class, dtype: category\n",
       "Categories (5, object): [BRCA, COAD, KIRC, LUAD, PRAD]"
      ]
     },
     "execution_count": 20,
     "metadata": {},
     "output_type": "execute_result"
    }
   ],
   "source": [
    "y_train.head()"
   ]
  },
  {
   "cell_type": "markdown",
   "metadata": {},
   "source": [
    "## Logistic Regression"
   ]
  },
  {
   "cell_type": "code",
   "execution_count": 21,
   "metadata": {
    "collapsed": false
   },
   "outputs": [
    {
     "data": {
      "text/plain": [
       "LogisticRegression(C=1.0, class_weight=None, dual=False, fit_intercept=True,\n",
       "          intercept_scaling=1, max_iter=100, multi_class='ovr', n_jobs=1,\n",
       "          penalty='l2', random_state=None, solver='liblinear', tol=0.0001,\n",
       "          verbose=0, warm_start=False)"
      ]
     },
     "execution_count": 21,
     "metadata": {},
     "output_type": "execute_result"
    }
   ],
   "source": [
    "logreg = LogisticRegression()\n",
    "logreg.fit(x_train, y_train)"
   ]
  },
  {
   "cell_type": "code",
   "execution_count": 22,
   "metadata": {
    "collapsed": false
   },
   "outputs": [
    {
     "name": "stdout",
     "output_type": "stream",
     "text": [
      "Accuracy of logistic regression classifier on test set: 1.00\n"
     ]
    }
   ],
   "source": [
    "preds = logreg.predict(x_test)\n",
    "print('Accuracy of logistic regression classifier on test set: {:.2f}'.format(logreg.score(x_test, y_test)))"
   ]
  },
  {
   "cell_type": "code",
   "execution_count": 23,
   "metadata": {
    "collapsed": false,
    "scrolled": false
   },
   "outputs": [
    {
     "data": {
      "text/plain": [
       "array(['BRCA', 'BRCA', 'PRAD', 'BRCA', 'BRCA', 'BRCA', 'LUAD', 'BRCA',\n",
       "       'KIRC', 'BRCA', 'COAD', 'KIRC', 'BRCA', 'BRCA', 'BRCA', 'BRCA',\n",
       "       'LUAD', 'LUAD', 'BRCA', 'BRCA', 'BRCA', 'BRCA', 'PRAD', 'LUAD',\n",
       "       'LUAD', 'KIRC', 'COAD', 'PRAD', 'LUAD', 'BRCA', 'LUAD', 'BRCA',\n",
       "       'LUAD', 'KIRC', 'COAD', 'KIRC', 'BRCA', 'KIRC', 'LUAD', 'COAD',\n",
       "       'LUAD', 'PRAD', 'LUAD', 'KIRC', 'BRCA', 'PRAD', 'BRCA', 'KIRC',\n",
       "       'KIRC', 'BRCA', 'KIRC', 'BRCA', 'PRAD', 'PRAD', 'PRAD', 'PRAD',\n",
       "       'BRCA', 'PRAD', 'BRCA', 'BRCA', 'COAD', 'PRAD', 'BRCA', 'KIRC',\n",
       "       'PRAD', 'BRCA', 'KIRC', 'KIRC', 'COAD', 'PRAD', 'LUAD', 'COAD',\n",
       "       'BRCA', 'BRCA', 'LUAD', 'BRCA', 'BRCA', 'BRCA', 'COAD', 'LUAD',\n",
       "       'BRCA', 'COAD', 'KIRC', 'LUAD', 'LUAD', 'BRCA', 'PRAD', 'BRCA',\n",
       "       'KIRC', 'PRAD', 'BRCA', 'BRCA', 'KIRC', 'LUAD', 'LUAD', 'LUAD',\n",
       "       'BRCA', 'PRAD', 'KIRC', 'BRCA', 'BRCA', 'LUAD', 'PRAD', 'BRCA',\n",
       "       'PRAD', 'KIRC', 'KIRC', 'LUAD', 'LUAD', 'BRCA', 'COAD', 'KIRC',\n",
       "       'BRCA', 'BRCA', 'COAD', 'BRCA', 'BRCA', 'BRCA', 'BRCA', 'BRCA',\n",
       "       'LUAD', 'BRCA', 'PRAD', 'COAD', 'BRCA', 'BRCA', 'KIRC', 'BRCA',\n",
       "       'BRCA', 'LUAD', 'BRCA', 'BRCA', 'LUAD', 'PRAD', 'PRAD', 'BRCA',\n",
       "       'PRAD', 'COAD', 'LUAD', 'BRCA', 'BRCA', 'KIRC', 'BRCA', 'PRAD',\n",
       "       'BRCA', 'BRCA', 'PRAD', 'LUAD', 'KIRC', 'BRCA', 'LUAD', 'BRCA',\n",
       "       'BRCA', 'KIRC', 'LUAD', 'BRCA', 'BRCA', 'LUAD', 'PRAD', 'COAD',\n",
       "       'KIRC', 'KIRC', 'KIRC', 'BRCA', 'PRAD', 'BRCA', 'BRCA', 'BRCA',\n",
       "       'LUAD', 'KIRC', 'PRAD', 'BRCA', 'PRAD', 'COAD', 'LUAD', 'COAD',\n",
       "       'BRCA', 'PRAD', 'PRAD', 'KIRC', 'BRCA', 'BRCA', 'COAD', 'KIRC',\n",
       "       'KIRC', 'BRCA', 'BRCA', 'BRCA', 'BRCA', 'BRCA', 'BRCA', 'BRCA',\n",
       "       'KIRC', 'PRAD', 'BRCA', 'BRCA', 'LUAD', 'PRAD', 'BRCA', 'KIRC',\n",
       "       'KIRC', 'BRCA', 'PRAD', 'BRCA', 'BRCA', 'COAD', 'COAD', 'BRCA',\n",
       "       'BRCA', 'BRCA', 'BRCA', 'KIRC', 'LUAD', 'BRCA', 'KIRC', 'BRCA',\n",
       "       'PRAD', 'COAD', 'BRCA', 'PRAD', 'BRCA', 'COAD', 'LUAD', 'BRCA',\n",
       "       'LUAD', 'LUAD', 'COAD', 'BRCA', 'COAD', 'BRCA', 'KIRC', 'LUAD',\n",
       "       'PRAD', 'COAD', 'PRAD', 'KIRC', 'PRAD', 'KIRC', 'COAD', 'BRCA',\n",
       "       'PRAD'], dtype=object)"
      ]
     },
     "execution_count": 23,
     "metadata": {},
     "output_type": "execute_result"
    }
   ],
   "source": [
    "preds"
   ]
  },
  {
   "cell_type": "code",
   "execution_count": 24,
   "metadata": {
    "collapsed": false,
    "scrolled": true
   },
   "outputs": [
    {
     "data": {
      "text/plain": [
       "8      BRCA\n",
       "253    BRCA\n",
       "85     PRAD\n",
       "406    BRCA\n",
       "14     BRCA\n",
       "439    BRCA\n",
       "706    LUAD\n",
       "454    BRCA\n",
       "718    KIRC\n",
       "522    BRCA\n",
       "79     COAD\n",
       "103    KIRC\n",
       "402    BRCA\n",
       "476    BRCA\n",
       "175    BRCA\n",
       "27     BRCA\n",
       "344    LUAD\n",
       "150    LUAD\n",
       "200    BRCA\n",
       "420    BRCA\n",
       "250    BRCA\n",
       "285    BRCA\n",
       "390    PRAD\n",
       "241    LUAD\n",
       "636    LUAD\n",
       "270    KIRC\n",
       "732    COAD\n",
       "477    PRAD\n",
       "759    LUAD\n",
       "630    BRCA\n",
       "       ... \n",
       "170    KIRC\n",
       "187    LUAD\n",
       "722    BRCA\n",
       "380    KIRC\n",
       "45     BRCA\n",
       "587    PRAD\n",
       "354    COAD\n",
       "62     BRCA\n",
       "78     PRAD\n",
       "756    BRCA\n",
       "382    COAD\n",
       "303    LUAD\n",
       "140    BRCA\n",
       "198    LUAD\n",
       "345    LUAD\n",
       "570    COAD\n",
       "127    BRCA\n",
       "261    COAD\n",
       "415    BRCA\n",
       "781    KIRC\n",
       "144    LUAD\n",
       "214    PRAD\n",
       "662    COAD\n",
       "374    PRAD\n",
       "21     KIRC\n",
       "717    PRAD\n",
       "628    KIRC\n",
       "590    COAD\n",
       "35     BRCA\n",
       "81     PRAD\n",
       "Name: Class, Length: 241, dtype: category\n",
       "Categories (5, object): [BRCA, COAD, KIRC, LUAD, PRAD]"
      ]
     },
     "execution_count": 24,
     "metadata": {},
     "output_type": "execute_result"
    }
   ],
   "source": [
    "y_test"
   ]
  },
  {
   "cell_type": "code",
   "execution_count": 25,
   "metadata": {
    "collapsed": false
   },
   "outputs": [
    {
     "data": {
      "text/plain": [
       "(801, 20531)"
      ]
     },
     "execution_count": 25,
     "metadata": {},
     "output_type": "execute_result"
    }
   ],
   "source": [
    "x.shape #20531 genes"
   ]
  },
  {
   "cell_type": "markdown",
   "metadata": {},
   "source": [
    "## Recursive Feature Elimination / Using Ranked Genes"
   ]
  },
  {
   "cell_type": "code",
   "execution_count": 26,
   "metadata": {
    "collapsed": true
   },
   "outputs": [],
   "source": [
    "#Feature selection -- completed on Rivanna\n",
    "\n",
    "#rfe = RFE(logreg, 100)\n",
    "#rfe = rfe.fit(x_train, y_train)\n",
    "#print(rfe.support_)\n",
    "#print(rfe.ranking_)"
   ]
  },
  {
   "cell_type": "code",
   "execution_count": 27,
   "metadata": {
    "collapsed": false
   },
   "outputs": [
    {
     "data": {
      "text/html": [
       "<div>\n",
       "<style scoped>\n",
       "    .dataframe tbody tr th:only-of-type {\n",
       "        vertical-align: middle;\n",
       "    }\n",
       "\n",
       "    .dataframe tbody tr th {\n",
       "        vertical-align: top;\n",
       "    }\n",
       "\n",
       "    .dataframe thead th {\n",
       "        text-align: right;\n",
       "    }\n",
       "</style>\n",
       "<table border=\"1\" class=\"dataframe\">\n",
       "  <thead>\n",
       "    <tr style=\"text-align: right;\">\n",
       "      <th></th>\n",
       "      <th>0</th>\n",
       "    </tr>\n",
       "  </thead>\n",
       "  <tbody>\n",
       "    <tr>\n",
       "      <th>0</th>\n",
       "      <td>19747</td>\n",
       "    </tr>\n",
       "    <tr>\n",
       "      <th>1</th>\n",
       "      <td>16579</td>\n",
       "    </tr>\n",
       "    <tr>\n",
       "      <th>2</th>\n",
       "      <td>10421</td>\n",
       "    </tr>\n",
       "    <tr>\n",
       "      <th>3</th>\n",
       "      <td>7377</td>\n",
       "    </tr>\n",
       "    <tr>\n",
       "      <th>4</th>\n",
       "      <td>14640</td>\n",
       "    </tr>\n",
       "  </tbody>\n",
       "</table>\n",
       "</div>"
      ],
      "text/plain": [
       "       0\n",
       "0  19747\n",
       "1  16579\n",
       "2  10421\n",
       "3   7377\n",
       "4  14640"
      ]
     },
     "execution_count": 27,
     "metadata": {},
     "output_type": "execute_result"
    }
   ],
   "source": [
    "ranks.head()"
   ]
  },
  {
   "cell_type": "code",
   "execution_count": 28,
   "metadata": {
    "collapsed": false
   },
   "outputs": [
    {
     "data": {
      "text/plain": [
       "[3523, 3541, 3921, 6733, 6876, 7623, 7964, 8598, 9175, 15898, 20531]"
      ]
     },
     "execution_count": 28,
     "metadata": {},
     "output_type": "execute_result"
    }
   ],
   "source": [
    "#Create a list of the top 10 genes based on the RFE results, to use for subsetting the full dataset\n",
    "ranks2 = ranks[ranks[0] == 1]\n",
    "ranks2.index.name = 'topgenes'\n",
    "ranks2.reset_index(inplace=True)\n",
    "ranks2.head()\n",
    "top_genes = ranks2['topgenes'].tolist()\n",
    "top_genes.append(20531) # keep the class column\n",
    "top_genes"
   ]
  },
  {
   "cell_type": "code",
   "execution_count": 29,
   "metadata": {
    "collapsed": false
   },
   "outputs": [
    {
     "name": "stdout",
     "output_type": "stream",
     "text": [
      "(801, 11)\n",
      "Index(['gene_3523', 'gene_3541', 'gene_3921', 'gene_6733', 'gene_6876',\n",
      "       'gene_7623', 'gene_7964', 'gene_8598', 'gene_9175', 'gene_15898',\n",
      "       'Class'],\n",
      "      dtype='object')\n"
     ]
    }
   ],
   "source": [
    "#Take a subset of the data including all observations, but only the top 10 genes and the class labels\n",
    "df3 = df2.iloc[:,top_genes]\n",
    "print(df3.shape)\n",
    "print(df3.columns)"
   ]
  },
  {
   "cell_type": "code",
   "execution_count": 30,
   "metadata": {
    "collapsed": false
   },
   "outputs": [
    {
     "data": {
      "text/html": [
       "<div>\n",
       "<style scoped>\n",
       "    .dataframe tbody tr th:only-of-type {\n",
       "        vertical-align: middle;\n",
       "    }\n",
       "\n",
       "    .dataframe tbody tr th {\n",
       "        vertical-align: top;\n",
       "    }\n",
       "\n",
       "    .dataframe thead th {\n",
       "        text-align: right;\n",
       "    }\n",
       "</style>\n",
       "<table border=\"1\" class=\"dataframe\">\n",
       "  <thead>\n",
       "    <tr style=\"text-align: right;\">\n",
       "      <th></th>\n",
       "      <th>gene_3523</th>\n",
       "      <th>gene_3541</th>\n",
       "      <th>gene_3921</th>\n",
       "      <th>gene_6733</th>\n",
       "      <th>gene_6876</th>\n",
       "      <th>gene_7623</th>\n",
       "      <th>gene_7964</th>\n",
       "      <th>gene_8598</th>\n",
       "      <th>gene_9175</th>\n",
       "      <th>gene_15898</th>\n",
       "    </tr>\n",
       "  </thead>\n",
       "  <tbody>\n",
       "    <tr>\n",
       "      <th>0</th>\n",
       "      <td>1.822037</td>\n",
       "      <td>5.788312</td>\n",
       "      <td>0.591871</td>\n",
       "      <td>2.717803</td>\n",
       "      <td>8.440400</td>\n",
       "      <td>5.663951</td>\n",
       "      <td>5.248778</td>\n",
       "      <td>7.210184</td>\n",
       "      <td>17.173570</td>\n",
       "      <td>1.334282</td>\n",
       "    </tr>\n",
       "    <tr>\n",
       "      <th>1</th>\n",
       "      <td>1.327170</td>\n",
       "      <td>13.059513</td>\n",
       "      <td>0.587845</td>\n",
       "      <td>2.592278</td>\n",
       "      <td>6.484409</td>\n",
       "      <td>0.000000</td>\n",
       "      <td>3.890826</td>\n",
       "      <td>2.762370</td>\n",
       "      <td>0.000000</td>\n",
       "      <td>13.609213</td>\n",
       "    </tr>\n",
       "    <tr>\n",
       "      <th>2</th>\n",
       "      <td>2.438799</td>\n",
       "      <td>5.155361</td>\n",
       "      <td>0.796598</td>\n",
       "      <td>1.306846</td>\n",
       "      <td>3.352236</td>\n",
       "      <td>1.306846</td>\n",
       "      <td>1.074163</td>\n",
       "      <td>3.677147</td>\n",
       "      <td>14.818422</td>\n",
       "      <td>1.074163</td>\n",
       "    </tr>\n",
       "    <tr>\n",
       "      <th>3</th>\n",
       "      <td>1.039419</td>\n",
       "      <td>5.983377</td>\n",
       "      <td>0.000000</td>\n",
       "      <td>0.000000</td>\n",
       "      <td>5.967242</td>\n",
       "      <td>0.000000</td>\n",
       "      <td>2.650029</td>\n",
       "      <td>7.226961</td>\n",
       "      <td>17.371079</td>\n",
       "      <td>0.434882</td>\n",
       "    </tr>\n",
       "    <tr>\n",
       "      <th>4</th>\n",
       "      <td>2.678342</td>\n",
       "      <td>8.349648</td>\n",
       "      <td>1.095654</td>\n",
       "      <td>0.360982</td>\n",
       "      <td>13.636772</td>\n",
       "      <td>5.024776</td>\n",
       "      <td>0.000000</td>\n",
       "      <td>10.982102</td>\n",
       "      <td>1.580097</td>\n",
       "      <td>1.095654</td>\n",
       "    </tr>\n",
       "  </tbody>\n",
       "</table>\n",
       "</div>"
      ],
      "text/plain": [
       "   gene_3523  gene_3541  gene_3921  gene_6733  gene_6876  gene_7623  \\\n",
       "0   1.822037   5.788312   0.591871   2.717803   8.440400   5.663951   \n",
       "1   1.327170  13.059513   0.587845   2.592278   6.484409   0.000000   \n",
       "2   2.438799   5.155361   0.796598   1.306846   3.352236   1.306846   \n",
       "3   1.039419   5.983377   0.000000   0.000000   5.967242   0.000000   \n",
       "4   2.678342   8.349648   1.095654   0.360982  13.636772   5.024776   \n",
       "\n",
       "   gene_7964  gene_8598  gene_9175  gene_15898  \n",
       "0   5.248778   7.210184  17.173570    1.334282  \n",
       "1   3.890826   2.762370   0.000000   13.609213  \n",
       "2   1.074163   3.677147  14.818422    1.074163  \n",
       "3   2.650029   7.226961  17.371079    0.434882  \n",
       "4   0.000000  10.982102   1.580097    1.095654  "
      ]
     },
     "execution_count": 30,
     "metadata": {},
     "output_type": "execute_result"
    }
   ],
   "source": [
    "#Define x and y (features and classes)\n",
    "x = df3.iloc[:,:10]\n",
    "y = df3.loc[:,\"Class\"]\n",
    "x.head()"
   ]
  },
  {
   "cell_type": "code",
   "execution_count": 31,
   "metadata": {
    "collapsed": false,
    "scrolled": true
   },
   "outputs": [
    {
     "data": {
      "image/png": "[encoded data removed]",
      "text/plain": [
       "<matplotlib.figure.Figure at 0x111a54048>"
      ]
     },
     "metadata": {},
     "output_type": "display_data"
    }
   ],
   "source": [
    "#View a distribution of the class labels\n",
    "h1 = plt.hist(np.array(df2[\"Class\"]), bins=20,normed=False,histtype='stepfilled',alpha=0.8); "
   ]
  },
  {
   "cell_type": "markdown",
   "metadata": {},
   "source": [
    "## Logistic Regression with 10 or Fewer Genes"
   ]
  },
  {
   "cell_type": "code",
   "execution_count": 32,
   "metadata": {
    "collapsed": true
   },
   "outputs": [],
   "source": [
    "#Re-split data with the 10 selected genes from above (x and y have been reassigned)\n",
    "x_train, x_test, y_train, y_test = train_test_split(x, y, test_size=0.3, random_state=0)"
   ]
  },
  {
   "cell_type": "code",
   "execution_count": 33,
   "metadata": {
    "collapsed": false
   },
   "outputs": [
    {
     "data": {
      "text/html": [
       "<div>\n",
       "<style scoped>\n",
       "    .dataframe tbody tr th:only-of-type {\n",
       "        vertical-align: middle;\n",
       "    }\n",
       "\n",
       "    .dataframe tbody tr th {\n",
       "        vertical-align: top;\n",
       "    }\n",
       "\n",
       "    .dataframe thead th {\n",
       "        text-align: right;\n",
       "    }\n",
       "</style>\n",
       "<table border=\"1\" class=\"dataframe\">\n",
       "  <thead>\n",
       "    <tr style=\"text-align: right;\">\n",
       "      <th></th>\n",
       "      <th>gene_3523</th>\n",
       "      <th>gene_3541</th>\n",
       "      <th>gene_3921</th>\n",
       "      <th>gene_6733</th>\n",
       "      <th>gene_6876</th>\n",
       "      <th>gene_7623</th>\n",
       "      <th>gene_7964</th>\n",
       "      <th>gene_8598</th>\n",
       "      <th>gene_9175</th>\n",
       "      <th>gene_15898</th>\n",
       "    </tr>\n",
       "  </thead>\n",
       "  <tbody>\n",
       "    <tr>\n",
       "      <th>159</th>\n",
       "      <td>3.180227</td>\n",
       "      <td>15.871352</td>\n",
       "      <td>2.111265</td>\n",
       "      <td>3.390626</td>\n",
       "      <td>6.913428</td>\n",
       "      <td>0.962586</td>\n",
       "      <td>9.468229</td>\n",
       "      <td>6.884757</td>\n",
       "      <td>0.962586</td>\n",
       "      <td>16.784098</td>\n",
       "    </tr>\n",
       "    <tr>\n",
       "      <th>337</th>\n",
       "      <td>3.182009</td>\n",
       "      <td>7.498171</td>\n",
       "      <td>0.510962</td>\n",
       "      <td>2.392400</td>\n",
       "      <td>13.091333</td>\n",
       "      <td>4.268771</td>\n",
       "      <td>0.000000</td>\n",
       "      <td>10.001282</td>\n",
       "      <td>1.185930</td>\n",
       "      <td>2.608904</td>\n",
       "    </tr>\n",
       "    <tr>\n",
       "      <th>77</th>\n",
       "      <td>1.602504</td>\n",
       "      <td>1.602504</td>\n",
       "      <td>9.651880</td>\n",
       "      <td>16.501178</td>\n",
       "      <td>5.310940</td>\n",
       "      <td>0.000000</td>\n",
       "      <td>11.544849</td>\n",
       "      <td>7.580658</td>\n",
       "      <td>0.000000</td>\n",
       "      <td>0.000000</td>\n",
       "    </tr>\n",
       "    <tr>\n",
       "      <th>651</th>\n",
       "      <td>4.438526</td>\n",
       "      <td>7.183228</td>\n",
       "      <td>2.335369</td>\n",
       "      <td>2.677102</td>\n",
       "      <td>12.890488</td>\n",
       "      <td>7.462380</td>\n",
       "      <td>0.000000</td>\n",
       "      <td>10.075800</td>\n",
       "      <td>3.254473</td>\n",
       "      <td>0.925468</td>\n",
       "    </tr>\n",
       "    <tr>\n",
       "      <th>283</th>\n",
       "      <td>0.399773</td>\n",
       "      <td>13.041993</td>\n",
       "      <td>1.543842</td>\n",
       "      <td>2.533389</td>\n",
       "      <td>4.400190</td>\n",
       "      <td>0.000000</td>\n",
       "      <td>9.976407</td>\n",
       "      <td>9.330289</td>\n",
       "      <td>0.712464</td>\n",
       "      <td>20.177309</td>\n",
       "    </tr>\n",
       "  </tbody>\n",
       "</table>\n",
       "</div>"
      ],
      "text/plain": [
       "     gene_3523  gene_3541  gene_3921  gene_6733  gene_6876  gene_7623  \\\n",
       "159   3.180227  15.871352   2.111265   3.390626   6.913428   0.962586   \n",
       "337   3.182009   7.498171   0.510962   2.392400  13.091333   4.268771   \n",
       "77    1.602504   1.602504   9.651880  16.501178   5.310940   0.000000   \n",
       "651   4.438526   7.183228   2.335369   2.677102  12.890488   7.462380   \n",
       "283   0.399773  13.041993   1.543842   2.533389   4.400190   0.000000   \n",
       "\n",
       "     gene_7964  gene_8598  gene_9175  gene_15898  \n",
       "159   9.468229   6.884757   0.962586   16.784098  \n",
       "337   0.000000  10.001282   1.185930    2.608904  \n",
       "77   11.544849   7.580658   0.000000    0.000000  \n",
       "651   0.000000  10.075800   3.254473    0.925468  \n",
       "283   9.976407   9.330289   0.712464   20.177309  "
      ]
     },
     "execution_count": 33,
     "metadata": {},
     "output_type": "execute_result"
    }
   ],
   "source": [
    "x_train.head()"
   ]
  },
  {
   "cell_type": "code",
   "execution_count": 34,
   "metadata": {
    "collapsed": false
   },
   "outputs": [
    {
     "data": {
      "text/plain": [
       "(560, 10)"
      ]
     },
     "execution_count": 34,
     "metadata": {},
     "output_type": "execute_result"
    }
   ],
   "source": [
    "x_train.shape #Note that there are only 10 columns, one for each of the top ranked genes"
   ]
  },
  {
   "cell_type": "code",
   "execution_count": 35,
   "metadata": {
    "collapsed": false
   },
   "outputs": [
    {
     "data": {
      "text/plain": [
       "LogisticRegression(C=1.0, class_weight=None, dual=False, fit_intercept=True,\n",
       "          intercept_scaling=1, max_iter=100, multi_class='ovr', n_jobs=1,\n",
       "          penalty='l2', random_state=None, solver='liblinear', tol=0.0001,\n",
       "          verbose=0, warm_start=False)"
      ]
     },
     "execution_count": 35,
     "metadata": {},
     "output_type": "execute_result"
    }
   ],
   "source": [
    "#Fit model\n",
    "logreg = LogisticRegression()\n",
    "logreg.fit(x_train, y_train)"
   ]
  },
  {
   "cell_type": "code",
   "execution_count": 36,
   "metadata": {
    "collapsed": false
   },
   "outputs": [
    {
     "name": "stdout",
     "output_type": "stream",
     "text": [
      "Accuracy of logistic regression classifier on test set: 1.00\n"
     ]
    }
   ],
   "source": [
    "preds = logreg.predict(x_test)\n",
    "print('Accuracy of logistic regression classifier on test set: {:.2f}'.format(logreg.score(x_test, y_test)))\n",
    "#Still has 100% accuracy!"
   ]
  },
  {
   "cell_type": "code",
   "execution_count": 37,
   "metadata": {
    "collapsed": false
   },
   "outputs": [
    {
     "name": "stdout",
     "output_type": "stream",
     "text": [
      "[False False False False False False  True False False False]\n",
      "[ 2  4  9 10  3  7  1  8  5  6]\n"
     ]
    }
   ],
   "source": [
    "#Use feature selection to rank WITHIN the top 10 genes (Rivanna did not do this - it ranked all the top ten equally)\n",
    "rfe = RFE(logreg, 1)\n",
    "rfe = rfe.fit(x_train, y_train)\n",
    "print(rfe.support_)\n",
    "print(rfe.ranking_)"
   ]
  },
  {
   "cell_type": "code",
   "execution_count": 38,
   "metadata": {
    "collapsed": false
   },
   "outputs": [
    {
     "data": {
      "text/html": [
       "<div>\n",
       "<style scoped>\n",
       "    .dataframe tbody tr th:only-of-type {\n",
       "        vertical-align: middle;\n",
       "    }\n",
       "\n",
       "    .dataframe tbody tr th {\n",
       "        vertical-align: top;\n",
       "    }\n",
       "\n",
       "    .dataframe thead th {\n",
       "        text-align: right;\n",
       "    }\n",
       "</style>\n",
       "<table border=\"1\" class=\"dataframe\">\n",
       "  <thead>\n",
       "    <tr style=\"text-align: right;\">\n",
       "      <th></th>\n",
       "      <th>gene_7964</th>\n",
       "      <th>gene_3523</th>\n",
       "      <th>gene_6876</th>\n",
       "      <th>gene_9175</th>\n",
       "      <th>gene_15898</th>\n",
       "    </tr>\n",
       "  </thead>\n",
       "  <tbody>\n",
       "    <tr>\n",
       "      <th>0</th>\n",
       "      <td>5.248778</td>\n",
       "      <td>1.822037</td>\n",
       "      <td>8.440400</td>\n",
       "      <td>17.173570</td>\n",
       "      <td>1.334282</td>\n",
       "    </tr>\n",
       "    <tr>\n",
       "      <th>1</th>\n",
       "      <td>3.890826</td>\n",
       "      <td>1.327170</td>\n",
       "      <td>6.484409</td>\n",
       "      <td>0.000000</td>\n",
       "      <td>13.609213</td>\n",
       "    </tr>\n",
       "    <tr>\n",
       "      <th>2</th>\n",
       "      <td>1.074163</td>\n",
       "      <td>2.438799</td>\n",
       "      <td>3.352236</td>\n",
       "      <td>14.818422</td>\n",
       "      <td>1.074163</td>\n",
       "    </tr>\n",
       "    <tr>\n",
       "      <th>3</th>\n",
       "      <td>2.650029</td>\n",
       "      <td>1.039419</td>\n",
       "      <td>5.967242</td>\n",
       "      <td>17.371079</td>\n",
       "      <td>0.434882</td>\n",
       "    </tr>\n",
       "    <tr>\n",
       "      <th>4</th>\n",
       "      <td>0.000000</td>\n",
       "      <td>2.678342</td>\n",
       "      <td>13.636772</td>\n",
       "      <td>1.580097</td>\n",
       "      <td>1.095654</td>\n",
       "    </tr>\n",
       "  </tbody>\n",
       "</table>\n",
       "</div>"
      ],
      "text/plain": [
       "   gene_7964  gene_3523  gene_6876  gene_9175  gene_15898\n",
       "0   5.248778   1.822037   8.440400  17.173570    1.334282\n",
       "1   3.890826   1.327170   6.484409   0.000000   13.609213\n",
       "2   1.074163   2.438799   3.352236  14.818422    1.074163\n",
       "3   2.650029   1.039419   5.967242  17.371079    0.434882\n",
       "4   0.000000   2.678342  13.636772   1.580097    1.095654"
      ]
     },
     "execution_count": 38,
     "metadata": {},
     "output_type": "execute_result"
    }
   ],
   "source": [
    "#Select top 5 genes\n",
    "x = df3.iloc[:,[6,0,4,8,9]]\n",
    "y = df3.loc[:,\"Class\"]\n",
    "x.head()"
   ]
  },
  {
   "cell_type": "code",
   "execution_count": 39,
   "metadata": {
    "collapsed": true
   },
   "outputs": [],
   "source": [
    "#Resplit testing/training sets\n",
    "x_train, x_test, y_train, y_test = train_test_split(x, y, test_size=0.3, random_state=0)"
   ]
  },
  {
   "cell_type": "code",
   "execution_count": 40,
   "metadata": {
    "collapsed": false
   },
   "outputs": [
    {
     "data": {
      "text/html": [
       "<div>\n",
       "<style scoped>\n",
       "    .dataframe tbody tr th:only-of-type {\n",
       "        vertical-align: middle;\n",
       "    }\n",
       "\n",
       "    .dataframe tbody tr th {\n",
       "        vertical-align: top;\n",
       "    }\n",
       "\n",
       "    .dataframe thead th {\n",
       "        text-align: right;\n",
       "    }\n",
       "</style>\n",
       "<table border=\"1\" class=\"dataframe\">\n",
       "  <thead>\n",
       "    <tr style=\"text-align: right;\">\n",
       "      <th></th>\n",
       "      <th>gene_7964</th>\n",
       "      <th>gene_3523</th>\n",
       "      <th>gene_6876</th>\n",
       "      <th>gene_9175</th>\n",
       "      <th>gene_15898</th>\n",
       "    </tr>\n",
       "  </thead>\n",
       "  <tbody>\n",
       "    <tr>\n",
       "      <th>159</th>\n",
       "      <td>9.468229</td>\n",
       "      <td>3.180227</td>\n",
       "      <td>6.913428</td>\n",
       "      <td>0.962586</td>\n",
       "      <td>16.784098</td>\n",
       "    </tr>\n",
       "    <tr>\n",
       "      <th>337</th>\n",
       "      <td>0.000000</td>\n",
       "      <td>3.182009</td>\n",
       "      <td>13.091333</td>\n",
       "      <td>1.185930</td>\n",
       "      <td>2.608904</td>\n",
       "    </tr>\n",
       "    <tr>\n",
       "      <th>77</th>\n",
       "      <td>11.544849</td>\n",
       "      <td>1.602504</td>\n",
       "      <td>5.310940</td>\n",
       "      <td>0.000000</td>\n",
       "      <td>0.000000</td>\n",
       "    </tr>\n",
       "    <tr>\n",
       "      <th>651</th>\n",
       "      <td>0.000000</td>\n",
       "      <td>4.438526</td>\n",
       "      <td>12.890488</td>\n",
       "      <td>3.254473</td>\n",
       "      <td>0.925468</td>\n",
       "    </tr>\n",
       "    <tr>\n",
       "      <th>283</th>\n",
       "      <td>9.976407</td>\n",
       "      <td>0.399773</td>\n",
       "      <td>4.400190</td>\n",
       "      <td>0.712464</td>\n",
       "      <td>20.177309</td>\n",
       "    </tr>\n",
       "  </tbody>\n",
       "</table>\n",
       "</div>"
      ],
      "text/plain": [
       "     gene_7964  gene_3523  gene_6876  gene_9175  gene_15898\n",
       "159   9.468229   3.180227   6.913428   0.962586   16.784098\n",
       "337   0.000000   3.182009  13.091333   1.185930    2.608904\n",
       "77   11.544849   1.602504   5.310940   0.000000    0.000000\n",
       "651   0.000000   4.438526  12.890488   3.254473    0.925468\n",
       "283   9.976407   0.399773   4.400190   0.712464   20.177309"
      ]
     },
     "execution_count": 40,
     "metadata": {},
     "output_type": "execute_result"
    }
   ],
   "source": [
    "x_train.head()"
   ]
  },
  {
   "cell_type": "code",
   "execution_count": 41,
   "metadata": {
    "collapsed": false
   },
   "outputs": [
    {
     "data": {
      "text/plain": [
       "LogisticRegression(C=1.0, class_weight=None, dual=False, fit_intercept=True,\n",
       "          intercept_scaling=1, max_iter=100, multi_class='ovr', n_jobs=1,\n",
       "          penalty='l2', random_state=None, solver='liblinear', tol=0.0001,\n",
       "          verbose=0, warm_start=False)"
      ]
     },
     "execution_count": 41,
     "metadata": {},
     "output_type": "execute_result"
    }
   ],
   "source": [
    "#Fit newest model\n",
    "logreg = LogisticRegression()\n",
    "logreg.fit(x_train, y_train)"
   ]
  },
  {
   "cell_type": "code",
   "execution_count": 42,
   "metadata": {
    "collapsed": false
   },
   "outputs": [
    {
     "name": "stdout",
     "output_type": "stream",
     "text": [
      "Accuracy of logistic regression classifier on test set: 1.00\n"
     ]
    }
   ],
   "source": [
    "preds = logreg.predict(x_test)\n",
    "print('Accuracy of logistic regression classifier on test set: {:.2f}'.format(logreg.score(x_test, y_test)))\n",
    "#STILL 100% accurate!"
   ]
  },
  {
   "cell_type": "code",
   "execution_count": 43,
   "metadata": {
    "collapsed": false
   },
   "outputs": [
    {
     "name": "stdout",
     "output_type": "stream",
     "text": [
      "Accuracy of logistic regression classifier on test set: 0.96\n"
     ]
    }
   ],
   "source": [
    "#Repeat above steps for top 4 genes\n",
    "x = df3.iloc[:,[6,0,4,8]]\n",
    "y = df3.loc[:,\"Class\"]\n",
    "x_train, x_test, y_train, y_test = train_test_split(x, y, test_size=0.3, random_state=0)\n",
    "logreg = LogisticRegression()\n",
    "logreg.fit(x_train, y_train)\n",
    "preds = logreg.predict(x_test)\n",
    "print('Accuracy of logistic regression classifier on test set: {:.2f}'.format(logreg.score(x_test, y_test)))\n",
    "#96% accurate"
   ]
  },
  {
   "cell_type": "code",
   "execution_count": 44,
   "metadata": {
    "collapsed": false
   },
   "outputs": [
    {
     "name": "stdout",
     "output_type": "stream",
     "text": [
      "Accuracy of logistic regression classifier on test set: 0.87\n"
     ]
    }
   ],
   "source": [
    "#Repeat above steps for top 4 genes\n",
    "x = df3.iloc[:,[6,0,4]]\n",
    "y = df3.loc[:,\"Class\"]\n",
    "x_train, x_test, y_train, y_test = train_test_split(x, y, test_size=0.3, random_state=0)\n",
    "logreg = LogisticRegression()\n",
    "logreg.fit(x_train, y_train)\n",
    "preds = logreg.predict(x_test)\n",
    "print('Accuracy of logistic regression classifier on test set: {:.2f}'.format(logreg.score(x_test, y_test)))\n",
    "#87% accurate"
   ]
  },
  {
   "cell_type": "markdown",
   "metadata": {},
   "source": [
    "## Expectation Maximization Set Up \n"
   ]
  },
  {
   "cell_type": "code",
   "execution_count": 45,
   "metadata": {
    "collapsed": false
   },
   "outputs": [
    {
     "data": {
      "text/html": [
       "<div>\n",
       "<style scoped>\n",
       "    .dataframe tbody tr th:only-of-type {\n",
       "        vertical-align: middle;\n",
       "    }\n",
       "\n",
       "    .dataframe tbody tr th {\n",
       "        vertical-align: top;\n",
       "    }\n",
       "\n",
       "    .dataframe thead th {\n",
       "        text-align: right;\n",
       "    }\n",
       "</style>\n",
       "<table border=\"1\" class=\"dataframe\">\n",
       "  <thead>\n",
       "    <tr style=\"text-align: right;\">\n",
       "      <th></th>\n",
       "      <th>gene_3523</th>\n",
       "      <th>gene_3541</th>\n",
       "      <th>gene_3921</th>\n",
       "      <th>gene_6733</th>\n",
       "      <th>gene_6876</th>\n",
       "      <th>gene_7623</th>\n",
       "      <th>gene_7964</th>\n",
       "      <th>gene_8598</th>\n",
       "      <th>gene_9175</th>\n",
       "      <th>gene_15898</th>\n",
       "    </tr>\n",
       "  </thead>\n",
       "  <tbody>\n",
       "    <tr>\n",
       "      <th>0</th>\n",
       "      <td>1.822037</td>\n",
       "      <td>5.788312</td>\n",
       "      <td>0.591871</td>\n",
       "      <td>2.717803</td>\n",
       "      <td>8.440400</td>\n",
       "      <td>5.663951</td>\n",
       "      <td>5.248778</td>\n",
       "      <td>7.210184</td>\n",
       "      <td>17.173570</td>\n",
       "      <td>1.334282</td>\n",
       "    </tr>\n",
       "    <tr>\n",
       "      <th>1</th>\n",
       "      <td>1.327170</td>\n",
       "      <td>13.059513</td>\n",
       "      <td>0.587845</td>\n",
       "      <td>2.592278</td>\n",
       "      <td>6.484409</td>\n",
       "      <td>0.000000</td>\n",
       "      <td>3.890826</td>\n",
       "      <td>2.762370</td>\n",
       "      <td>0.000000</td>\n",
       "      <td>13.609213</td>\n",
       "    </tr>\n",
       "    <tr>\n",
       "      <th>2</th>\n",
       "      <td>2.438799</td>\n",
       "      <td>5.155361</td>\n",
       "      <td>0.796598</td>\n",
       "      <td>1.306846</td>\n",
       "      <td>3.352236</td>\n",
       "      <td>1.306846</td>\n",
       "      <td>1.074163</td>\n",
       "      <td>3.677147</td>\n",
       "      <td>14.818422</td>\n",
       "      <td>1.074163</td>\n",
       "    </tr>\n",
       "    <tr>\n",
       "      <th>3</th>\n",
       "      <td>1.039419</td>\n",
       "      <td>5.983377</td>\n",
       "      <td>0.000000</td>\n",
       "      <td>0.000000</td>\n",
       "      <td>5.967242</td>\n",
       "      <td>0.000000</td>\n",
       "      <td>2.650029</td>\n",
       "      <td>7.226961</td>\n",
       "      <td>17.371079</td>\n",
       "      <td>0.434882</td>\n",
       "    </tr>\n",
       "    <tr>\n",
       "      <th>4</th>\n",
       "      <td>2.678342</td>\n",
       "      <td>8.349648</td>\n",
       "      <td>1.095654</td>\n",
       "      <td>0.360982</td>\n",
       "      <td>13.636772</td>\n",
       "      <td>5.024776</td>\n",
       "      <td>0.000000</td>\n",
       "      <td>10.982102</td>\n",
       "      <td>1.580097</td>\n",
       "      <td>1.095654</td>\n",
       "    </tr>\n",
       "  </tbody>\n",
       "</table>\n",
       "</div>"
      ],
      "text/plain": [
       "   gene_3523  gene_3541  gene_3921  gene_6733  gene_6876  gene_7623  \\\n",
       "0   1.822037   5.788312   0.591871   2.717803   8.440400   5.663951   \n",
       "1   1.327170  13.059513   0.587845   2.592278   6.484409   0.000000   \n",
       "2   2.438799   5.155361   0.796598   1.306846   3.352236   1.306846   \n",
       "3   1.039419   5.983377   0.000000   0.000000   5.967242   0.000000   \n",
       "4   2.678342   8.349648   1.095654   0.360982  13.636772   5.024776   \n",
       "\n",
       "   gene_7964  gene_8598  gene_9175  gene_15898  \n",
       "0   5.248778   7.210184  17.173570    1.334282  \n",
       "1   3.890826   2.762370   0.000000   13.609213  \n",
       "2   1.074163   3.677147  14.818422    1.074163  \n",
       "3   2.650029   7.226961  17.371079    0.434882  \n",
       "4   0.000000  10.982102   1.580097    1.095654  "
      ]
     },
     "execution_count": 45,
     "metadata": {},
     "output_type": "execute_result"
    }
   ],
   "source": [
    "#Re-define x and y (features and classes)\n",
    "x = df3.iloc[:,:10]\n",
    "y = df3.loc[:,\"Class\"]\n",
    "x.head()"
   ]
  },
  {
   "cell_type": "code",
   "execution_count": 46,
   "metadata": {
    "collapsed": true
   },
   "outputs": [],
   "source": [
    "#Create a subset of the full dataset for each tumor type (to be used for selecting a random point\n",
    "# from each class)\n",
    "\n",
    "df_prad = df3.loc[df3[\"Class\"] == \"PRAD\", :]\n",
    "df_luad = df3.loc[df3[\"Class\"] == \"LUAD\", :]\n",
    "df_brca = df3.loc[df3[\"Class\"] == \"BRCA\", :]\n",
    "df_kirc = df3.loc[df3[\"Class\"] == \"KIRC\", :]\n",
    "df_coad = df3.loc[df3[\"Class\"] == \"COAD\", :]"
   ]
  },
  {
   "cell_type": "code",
   "execution_count": 47,
   "metadata": {
    "collapsed": true
   },
   "outputs": [],
   "source": [
    "#Basic Dimensions\n",
    "\n",
    "n = 801  #number of samples\n",
    "d = 10   #number of features\n",
    "k = 5    #number of clusters\n"
   ]
  },
  {
   "cell_type": "markdown",
   "metadata": {},
   "source": [
    "### Initialize the Means (mu)"
   ]
  },
  {
   "cell_type": "code",
   "execution_count": 48,
   "metadata": {
    "collapsed": false
   },
   "outputs": [
    {
     "data": {
      "text/html": [
       "<div>\n",
       "<style scoped>\n",
       "    .dataframe tbody tr th:only-of-type {\n",
       "        vertical-align: middle;\n",
       "    }\n",
       "\n",
       "    .dataframe tbody tr th {\n",
       "        vertical-align: top;\n",
       "    }\n",
       "\n",
       "    .dataframe thead th {\n",
       "        text-align: right;\n",
       "    }\n",
       "</style>\n",
       "<table border=\"1\" class=\"dataframe\">\n",
       "  <thead>\n",
       "    <tr style=\"text-align: right;\">\n",
       "      <th></th>\n",
       "      <th>gene_3523</th>\n",
       "      <th>gene_3541</th>\n",
       "      <th>gene_3921</th>\n",
       "      <th>gene_6733</th>\n",
       "      <th>gene_6876</th>\n",
       "      <th>gene_7623</th>\n",
       "      <th>gene_7964</th>\n",
       "      <th>gene_8598</th>\n",
       "      <th>gene_9175</th>\n",
       "      <th>gene_15898</th>\n",
       "    </tr>\n",
       "  </thead>\n",
       "  <tbody>\n",
       "    <tr>\n",
       "      <th>PRAD</th>\n",
       "      <td>1.413540</td>\n",
       "      <td>5.150795</td>\n",
       "      <td>0.000000</td>\n",
       "      <td>4.577640</td>\n",
       "      <td>7.966753</td>\n",
       "      <td>2.855910</td>\n",
       "      <td>7.089488</td>\n",
       "      <td>6.655833</td>\n",
       "      <td>17.974162</td>\n",
       "      <td>0.501821</td>\n",
       "    </tr>\n",
       "    <tr>\n",
       "      <th>LUAD</th>\n",
       "      <td>2.304920</td>\n",
       "      <td>16.439909</td>\n",
       "      <td>1.088209</td>\n",
       "      <td>1.427177</td>\n",
       "      <td>4.018162</td>\n",
       "      <td>0.000000</td>\n",
       "      <td>8.628289</td>\n",
       "      <td>9.877671</td>\n",
       "      <td>1.931797</td>\n",
       "      <td>16.812578</td>\n",
       "    </tr>\n",
       "    <tr>\n",
       "      <th>BRCA</th>\n",
       "      <td>2.199908</td>\n",
       "      <td>7.678142</td>\n",
       "      <td>0.000000</td>\n",
       "      <td>0.781486</td>\n",
       "      <td>13.092475</td>\n",
       "      <td>3.801190</td>\n",
       "      <td>0.443076</td>\n",
       "      <td>9.066697</td>\n",
       "      <td>0.781486</td>\n",
       "      <td>1.055473</td>\n",
       "    </tr>\n",
       "    <tr>\n",
       "      <th>KIRC</th>\n",
       "      <td>1.695103</td>\n",
       "      <td>0.000000</td>\n",
       "      <td>10.768275</td>\n",
       "      <td>13.519391</td>\n",
       "      <td>4.714674</td>\n",
       "      <td>0.000000</td>\n",
       "      <td>9.988841</td>\n",
       "      <td>3.447751</td>\n",
       "      <td>3.219200</td>\n",
       "      <td>0.400210</td>\n",
       "    </tr>\n",
       "    <tr>\n",
       "      <th>COAD</th>\n",
       "      <td>12.277282</td>\n",
       "      <td>15.352823</td>\n",
       "      <td>10.142299</td>\n",
       "      <td>0.000000</td>\n",
       "      <td>2.258911</td>\n",
       "      <td>1.979989</td>\n",
       "      <td>9.485888</td>\n",
       "      <td>4.086317</td>\n",
       "      <td>0.000000</td>\n",
       "      <td>0.880803</td>\n",
       "    </tr>\n",
       "  </tbody>\n",
       "</table>\n",
       "</div>"
      ],
      "text/plain": [
       "      gene_3523  gene_3541  gene_3921  gene_6733  gene_6876  gene_7623  \\\n",
       "PRAD   1.413540   5.150795   0.000000   4.577640   7.966753   2.855910   \n",
       "LUAD   2.304920  16.439909   1.088209   1.427177   4.018162   0.000000   \n",
       "BRCA   2.199908   7.678142   0.000000   0.781486  13.092475   3.801190   \n",
       "KIRC   1.695103   0.000000  10.768275  13.519391   4.714674   0.000000   \n",
       "COAD  12.277282  15.352823  10.142299   0.000000   2.258911   1.979989   \n",
       "\n",
       "      gene_7964  gene_8598  gene_9175  gene_15898  \n",
       "PRAD   7.089488   6.655833  17.974162    0.501821  \n",
       "LUAD   8.628289   9.877671   1.931797   16.812578  \n",
       "BRCA   0.443076   9.066697   0.781486    1.055473  \n",
       "KIRC   9.988841   3.447751   3.219200    0.400210  \n",
       "COAD   9.485888   4.086317   0.000000    0.880803  "
      ]
     },
     "execution_count": 48,
     "metadata": {},
     "output_type": "execute_result"
    }
   ],
   "source": [
    "#Choose a random datapoint from each cluster to be the starting mean\n",
    "mu = []\n",
    "dfs = [df_prad, df_luad, df_brca, df_kirc, df_coad]\n",
    "for i in range(5):\n",
    "    mu_ = dfs[i].iloc[np.random.choice(range(len(dfs[i])), 1, False), :]\n",
    "    mu.append(mu_)\n",
    "\n",
    "mu_df = pd.DataFrame(columns = dfs[1].columns)\n",
    "for i in range(len(mu)):\n",
    "    mu_df = pd.concat([mu_df, mu[i]])\n",
    "mu = mu_df.iloc[:, 0:10]\n",
    "mu\n",
    "\n",
    "#Rename the rows\n",
    "mu.index = [\"PRAD\", \"LUAD\", \"BRCA\", \"KIRC\", \"COAD\"]\n",
    "mu"
   ]
  },
  {
   "cell_type": "markdown",
   "metadata": {},
   "source": [
    "### Initialize the Covariance (sigma)"
   ]
  },
  {
   "cell_type": "code",
   "execution_count": 49,
   "metadata": {
    "collapsed": true
   },
   "outputs": [],
   "source": [
    "#Initialize the covariance matrices as identity matrices for each cluster with dimensions dxd\n",
    "sigma = [np.eye(d)] * k"
   ]
  },
  {
   "cell_type": "markdown",
   "metadata": {},
   "source": [
    "### Initialize the Class Probabilities"
   ]
  },
  {
   "cell_type": "code",
   "execution_count": 50,
   "metadata": {
    "collapsed": false
   },
   "outputs": [
    {
     "data": {
      "text/plain": [
       "[0.2, 0.2, 0.2, 0.2, 0.2]"
      ]
     },
     "execution_count": 50,
     "metadata": {},
     "output_type": "execute_result"
    }
   ],
   "source": [
    "#Initialize pi- probability of each class\n",
    "\n",
    "pi_ = [1./k] * k #equally probable\n",
    "pi_"
   ]
  },
  {
   "cell_type": "markdown",
   "metadata": {},
   "source": [
    "### Initialize the Responsibility Matrix"
   ]
  },
  {
   "cell_type": "code",
   "execution_count": 51,
   "metadata": {
    "collapsed": false
   },
   "outputs": [
    {
     "data": {
      "text/plain": [
       "(801, 5)"
      ]
     },
     "execution_count": 51,
     "metadata": {},
     "output_type": "execute_result"
    }
   ],
   "source": [
    "#Initialize the responsibility function as 0\n",
    "gamma = np.zeros((n, k))\n",
    "gamma.shape"
   ]
  },
  {
   "cell_type": "markdown",
   "metadata": {},
   "source": [
    "### Define the Probability Distribution Functions\n",
    "* PDF is the probability of the class of x given theta.  \n",
    "* mixPDF = sum over all classes [the probability of the class * distribution of the class]\n",
    "* responsibility function for each sample = PDFk/mixPDF"
   ]
  },
  {
   "cell_type": "code",
   "execution_count": 52,
   "metadata": {
    "collapsed": true
   },
   "outputs": [],
   "source": [
    "# define the Probability Distribution Function to be used in the E- step \n",
    "# for computing the responsibility function. \n",
    "\n",
    "PDF = lambda mu, sigma: np.linalg.det(sigma) ** -.5 ** (2*np.pi) ** (-n/2.)\\\n",
    "        * np.exp(-.5 *np.einsum('ij, ij -> i', x - mu, np.dot(np.linalg.inv(sigma), \\\n",
    "        (x-mu).T).T))"
   ]
  },
  {
   "cell_type": "markdown",
   "metadata": {},
   "source": [
    "## Run the Expectation Maximization"
   ]
  },
  {
   "cell_type": "code",
   "execution_count": 53,
   "metadata": {
    "collapsed": false
   },
   "outputs": [
    {
     "name": "stdout",
     "output_type": "stream",
     "text": [
      "10\n"
     ]
    }
   ],
   "source": [
    "#initialize a loop\n",
    "\n",
    "log_likelihoods = []\n",
    "theta_learning = []\n",
    "means = []\n",
    "covar = []\n",
    "probs = []\n",
    "threshold = 0.0001\n",
    "max_iter = 10000\n",
    "counter = 0\n",
    "converged = False\n",
    "\n",
    "while not converged: \n",
    "    counter += 1 \n",
    "    for k_value in range(k):\n",
    "        \n",
    "        #-- E- Step\n",
    "        #---- calculate the responsibility function\n",
    "        gamma[:, k_value] = pi_[k_value] * PDF(mu.iloc[k_value], sigma[k_value])\n",
    "\n",
    "        #---- calculate the log likelihood\n",
    "    log_likelihood = np.sum(np.log(np.sum(gamma, axis = 1)))\n",
    "    log_likelihoods.append(log_likelihood)\n",
    "\n",
    "    #---- normalize so that the responsibility matrix is row stochastic\n",
    "    gamma = (gamma.T /np.sum(gamma, axis = 1)).T\n",
    "\n",
    "    #---- determine the number of datapoints falling into each distribution\n",
    "    N_ks = np.sum(gamma, axis = 0)\n",
    "\n",
    "    for k_value in range(k):\n",
    "        #-- M- Step\n",
    "        #---- calculate the new parameters for each Gaussian\n",
    "\n",
    "        mu.iloc[k_value] = (np.sum(gamma[:, k_value]* x.T, axis = 1).T) / N_ks[k_value]\n",
    "        x_mu = np.matrix(x- mu.iloc[k_value])\n",
    "\n",
    "        sigma[k_value] = np.array(np.dot(np.multiply(x_mu.T, gamma[:, k_value]), x_mu)/ N_ks[k_value])\n",
    "\n",
    "        pi_[k_value] = 1./ n*N_ks[k_value]\n",
    "\n",
    "    #-- track progress\n",
    "    theta0 = namedtuple('theta0', ['mu', 'sigma', 'pi_', 'log_likelihood', 'iterations'])\n",
    "    theta0.mu = mu\n",
    "    theta0.sigma = sigma\n",
    "    theta0.pi_ = pi_\n",
    "    theta0.log_likelihood = log_likelihoods\n",
    "    theta0.iterations = len(log_likelihoods)\n",
    "    \n",
    "    theta_learning.append(theta0)\n",
    "    means.append(mu)\n",
    "    covar.append(sigma)\n",
    "    probs.append(pi_)\n",
    "    \n",
    "    \n",
    "    #-- check for convergence\n",
    "    if len(log_likelihoods) < 2 : continue\n",
    "    if np.abs(log_likelihood - log_likelihoods[-2])< threshold: break\n",
    "    \n",
    "    # or reached max iterations? \n",
    "    converged = counter >= max_iter \n",
    "    \n",
    "params = namedtuple('params', ['mu', 'sigma', 'pi_', 'log_likelihoods', 'num_iters'])\n",
    "params.mu = mu\n",
    "params.sigma = sigma\n",
    "params.pi_ = pi_\n",
    "params.log_likelihoods = log_likelihoods\n",
    "params.num_iters = len(log_likelihoods)  \n",
    "        \n",
    "print(len(log_likelihoods))\n",
    "    \n"
   ]
  },
  {
   "cell_type": "markdown",
   "metadata": {},
   "source": [
    "### View Resulting Parameters"
   ]
  },
  {
   "cell_type": "code",
   "execution_count": 54,
   "metadata": {
    "collapsed": false,
    "scrolled": true
   },
   "outputs": [
    {
     "name": "stdout",
     "output_type": "stream",
     "text": [
      "      gene_3523  gene_3541  gene_3921  gene_6733  gene_6876  gene_7623  \\\n",
      "PRAD   1.340056   5.349057   0.731911   1.751508   6.882429   2.558045   \n",
      "LUAD   2.663056  14.221523   2.062452   3.545810   6.216142   0.596140   \n",
      "BRCA   2.559152   9.005241   1.056061   1.570172  12.766649   4.679141   \n",
      "KIRC   1.488447   0.825130   9.576211  12.981462   6.343440   0.280535   \n",
      "COAD  11.817061  14.480650   9.820895   2.350674   4.530450   4.390389   \n",
      "\n",
      "      gene_7964  gene_8598  gene_9175  gene_15898  \n",
      "PRAD   6.735686   6.530793  16.752979    0.742696  \n",
      "LUAD   8.575348   7.560904   0.874444   15.592440  \n",
      "BRCA   0.357832   9.957025   1.615781    1.070110  \n",
      "KIRC  11.162369   6.488361   0.363720    1.078570  \n",
      "COAD   9.104005   3.601341   1.054822    1.382390  \n",
      "[0.16978822064109725, 0.17728280109164282, 0.37327854131600685, 0.18227215979769515, 0.09737827715355805]\n"
     ]
    }
   ],
   "source": [
    "print(params.mu.iloc[0:10, :])\n",
    "print(params.pi_)"
   ]
  },
  {
   "cell_type": "markdown",
   "metadata": {},
   "source": [
    "## Use the Distributions from EM to Predict the Class Labels"
   ]
  },
  {
   "cell_type": "code",
   "execution_count": 55,
   "metadata": {
    "collapsed": true
   },
   "outputs": [],
   "source": [
    "#Define a function that predicts the probability of each class for each observation using the \n",
    "# distribution parameters from the EM model\n",
    "def predict(x, k):\n",
    "    p = np.linalg.det(sigma[k]) ** - 0.5 * (2 * np.pi) **\\\n",
    "        (-len(x)/2) * np.exp( -0.5 * np.dot(x - mu.iloc[k] , \\\n",
    "        np.dot(np.linalg.inv(sigma[k]) , (x - mu.iloc[k]).T)))\n",
    "    prob = pi_[k]*p\n",
    "    return(prob)"
   ]
  },
  {
   "cell_type": "code",
   "execution_count": 56,
   "metadata": {
    "collapsed": true
   },
   "outputs": [],
   "source": [
    "#Create a dataframe to store the predicted probabilites for each class\n",
    "prob_df = pd.DataFrame(index = np.arange(801), columns = ['PRAD', 'LUAD', 'BRCA', 'KIRC', 'COAD'])"
   ]
  },
  {
   "cell_type": "code",
   "execution_count": 57,
   "metadata": {
    "collapsed": true
   },
   "outputs": [],
   "source": [
    "#Calculate the probabilities of each class for each observation\n",
    "prob_df['PRAD'] = predict(x, 0)\n",
    "prob_df['LUAD'] = predict(x, 1)\n",
    "prob_df['BRCA'] = predict(x, 2)\n",
    "prob_df['KIRC'] = predict(x, 3)\n",
    "prob_df['COAD'] = predict(x, 4)"
   ]
  },
  {
   "cell_type": "code",
   "execution_count": 58,
   "metadata": {
    "collapsed": false
   },
   "outputs": [
    {
     "data": {
      "text/html": [
       "<div>\n",
       "<style scoped>\n",
       "    .dataframe tbody tr th:only-of-type {\n",
       "        vertical-align: middle;\n",
       "    }\n",
       "\n",
       "    .dataframe tbody tr th {\n",
       "        vertical-align: top;\n",
       "    }\n",
       "\n",
       "    .dataframe thead th {\n",
       "        text-align: right;\n",
       "    }\n",
       "</style>\n",
       "<table border=\"1\" class=\"dataframe\">\n",
       "  <thead>\n",
       "    <tr style=\"text-align: right;\">\n",
       "      <th></th>\n",
       "      <th>PRAD</th>\n",
       "      <th>LUAD</th>\n",
       "      <th>BRCA</th>\n",
       "      <th>KIRC</th>\n",
       "      <th>COAD</th>\n",
       "    </tr>\n",
       "  </thead>\n",
       "  <tbody>\n",
       "    <tr>\n",
       "      <th>0</th>\n",
       "      <td>3.458460e-323</td>\n",
       "      <td>0.000000e+00</td>\n",
       "      <td>0.000000e+00</td>\n",
       "      <td>0.000000e+00</td>\n",
       "      <td>0.0</td>\n",
       "    </tr>\n",
       "    <tr>\n",
       "      <th>1</th>\n",
       "      <td>2.583963e-321</td>\n",
       "      <td>1.563772e-318</td>\n",
       "      <td>0.000000e+00</td>\n",
       "      <td>1.284972e-306</td>\n",
       "      <td>0.0</td>\n",
       "    </tr>\n",
       "    <tr>\n",
       "      <th>2</th>\n",
       "      <td>1.047419e-321</td>\n",
       "      <td>0.000000e+00</td>\n",
       "      <td>0.000000e+00</td>\n",
       "      <td>0.000000e+00</td>\n",
       "      <td>0.0</td>\n",
       "    </tr>\n",
       "    <tr>\n",
       "      <th>3</th>\n",
       "      <td>7.855644e-322</td>\n",
       "      <td>0.000000e+00</td>\n",
       "      <td>0.000000e+00</td>\n",
       "      <td>0.000000e+00</td>\n",
       "      <td>0.0</td>\n",
       "    </tr>\n",
       "    <tr>\n",
       "      <th>4</th>\n",
       "      <td>3.606679e-322</td>\n",
       "      <td>0.000000e+00</td>\n",
       "      <td>2.156102e-320</td>\n",
       "      <td>0.000000e+00</td>\n",
       "      <td>0.0</td>\n",
       "    </tr>\n",
       "  </tbody>\n",
       "</table>\n",
       "</div>"
      ],
      "text/plain": [
       "            PRAD           LUAD           BRCA           KIRC  COAD\n",
       "0  3.458460e-323   0.000000e+00   0.000000e+00   0.000000e+00   0.0\n",
       "1  2.583963e-321  1.563772e-318   0.000000e+00  1.284972e-306   0.0\n",
       "2  1.047419e-321   0.000000e+00   0.000000e+00   0.000000e+00   0.0\n",
       "3  7.855644e-322   0.000000e+00   0.000000e+00   0.000000e+00   0.0\n",
       "4  3.606679e-322   0.000000e+00  2.156102e-320   0.000000e+00   0.0"
      ]
     },
     "execution_count": 58,
     "metadata": {},
     "output_type": "execute_result"
    }
   ],
   "source": [
    "prob_df.head()"
   ]
  },
  {
   "cell_type": "code",
   "execution_count": 59,
   "metadata": {
    "collapsed": false
   },
   "outputs": [
    {
     "data": {
      "text/html": [
       "<div>\n",
       "<style scoped>\n",
       "    .dataframe tbody tr th:only-of-type {\n",
       "        vertical-align: middle;\n",
       "    }\n",
       "\n",
       "    .dataframe tbody tr th {\n",
       "        vertical-align: top;\n",
       "    }\n",
       "\n",
       "    .dataframe thead th {\n",
       "        text-align: right;\n",
       "    }\n",
       "</style>\n",
       "<table border=\"1\" class=\"dataframe\">\n",
       "  <thead>\n",
       "    <tr style=\"text-align: right;\">\n",
       "      <th></th>\n",
       "      <th>PRAD</th>\n",
       "      <th>LUAD</th>\n",
       "      <th>BRCA</th>\n",
       "      <th>KIRC</th>\n",
       "      <th>COAD</th>\n",
       "      <th>sum</th>\n",
       "    </tr>\n",
       "  </thead>\n",
       "  <tbody>\n",
       "    <tr>\n",
       "      <th>0</th>\n",
       "      <td>3.458460e-323</td>\n",
       "      <td>0.000000e+00</td>\n",
       "      <td>0.000000e+00</td>\n",
       "      <td>0.000000e+00</td>\n",
       "      <td>0.0</td>\n",
       "      <td>3.458460e-323</td>\n",
       "    </tr>\n",
       "    <tr>\n",
       "      <th>1</th>\n",
       "      <td>2.583963e-321</td>\n",
       "      <td>1.563772e-318</td>\n",
       "      <td>0.000000e+00</td>\n",
       "      <td>1.284972e-306</td>\n",
       "      <td>0.0</td>\n",
       "      <td>1.284972e-306</td>\n",
       "    </tr>\n",
       "    <tr>\n",
       "      <th>2</th>\n",
       "      <td>1.047419e-321</td>\n",
       "      <td>0.000000e+00</td>\n",
       "      <td>0.000000e+00</td>\n",
       "      <td>0.000000e+00</td>\n",
       "      <td>0.0</td>\n",
       "      <td>1.047419e-321</td>\n",
       "    </tr>\n",
       "    <tr>\n",
       "      <th>3</th>\n",
       "      <td>7.855644e-322</td>\n",
       "      <td>0.000000e+00</td>\n",
       "      <td>0.000000e+00</td>\n",
       "      <td>0.000000e+00</td>\n",
       "      <td>0.0</td>\n",
       "      <td>7.855644e-322</td>\n",
       "    </tr>\n",
       "    <tr>\n",
       "      <th>4</th>\n",
       "      <td>3.606679e-322</td>\n",
       "      <td>0.000000e+00</td>\n",
       "      <td>2.156102e-320</td>\n",
       "      <td>0.000000e+00</td>\n",
       "      <td>0.0</td>\n",
       "      <td>2.192169e-320</td>\n",
       "    </tr>\n",
       "  </tbody>\n",
       "</table>\n",
       "</div>"
      ],
      "text/plain": [
       "            PRAD           LUAD           BRCA           KIRC  COAD  \\\n",
       "0  3.458460e-323   0.000000e+00   0.000000e+00   0.000000e+00   0.0   \n",
       "1  2.583963e-321  1.563772e-318   0.000000e+00  1.284972e-306   0.0   \n",
       "2  1.047419e-321   0.000000e+00   0.000000e+00   0.000000e+00   0.0   \n",
       "3  7.855644e-322   0.000000e+00   0.000000e+00   0.000000e+00   0.0   \n",
       "4  3.606679e-322   0.000000e+00  2.156102e-320   0.000000e+00   0.0   \n",
       "\n",
       "             sum  \n",
       "0  3.458460e-323  \n",
       "1  1.284972e-306  \n",
       "2  1.047419e-321  \n",
       "3  7.855644e-322  \n",
       "4  2.192169e-320  "
      ]
     },
     "execution_count": 59,
     "metadata": {},
     "output_type": "execute_result"
    }
   ],
   "source": [
    "#Take the sum of all of the calculated class probabilities\n",
    "\n",
    "for i in range(len(prob_df)):\n",
    "    prob_df.loc[i, 'sum'] = sum(prob_df.iloc[i, 0:5])\n",
    "prob_df.head()"
   ]
  },
  {
   "cell_type": "code",
   "execution_count": 60,
   "metadata": {
    "collapsed": false
   },
   "outputs": [
    {
     "data": {
      "text/html": [
       "<div>\n",
       "<style scoped>\n",
       "    .dataframe tbody tr th:only-of-type {\n",
       "        vertical-align: middle;\n",
       "    }\n",
       "\n",
       "    .dataframe tbody tr th {\n",
       "        vertical-align: top;\n",
       "    }\n",
       "\n",
       "    .dataframe thead th {\n",
       "        text-align: right;\n",
       "    }\n",
       "</style>\n",
       "<table border=\"1\" class=\"dataframe\">\n",
       "  <thead>\n",
       "    <tr style=\"text-align: right;\">\n",
       "      <th></th>\n",
       "      <th>PRAD</th>\n",
       "      <th>LUAD</th>\n",
       "      <th>BRCA</th>\n",
       "      <th>KIRC</th>\n",
       "      <th>COAD</th>\n",
       "      <th>sum</th>\n",
       "    </tr>\n",
       "  </thead>\n",
       "  <tbody>\n",
       "    <tr>\n",
       "      <th>0</th>\n",
       "      <td>1.000000e+00</td>\n",
       "      <td>0.000000e+00</td>\n",
       "      <td>0.000000</td>\n",
       "      <td>0.0</td>\n",
       "      <td>0.0</td>\n",
       "      <td>3.458460e-323</td>\n",
       "    </tr>\n",
       "    <tr>\n",
       "      <th>1</th>\n",
       "      <td>2.010910e-15</td>\n",
       "      <td>1.216969e-12</td>\n",
       "      <td>0.000000</td>\n",
       "      <td>1.0</td>\n",
       "      <td>0.0</td>\n",
       "      <td>1.284972e-306</td>\n",
       "    </tr>\n",
       "    <tr>\n",
       "      <th>2</th>\n",
       "      <td>1.000000e+00</td>\n",
       "      <td>0.000000e+00</td>\n",
       "      <td>0.000000</td>\n",
       "      <td>0.0</td>\n",
       "      <td>0.0</td>\n",
       "      <td>1.047419e-321</td>\n",
       "    </tr>\n",
       "    <tr>\n",
       "      <th>3</th>\n",
       "      <td>1.000000e+00</td>\n",
       "      <td>0.000000e+00</td>\n",
       "      <td>0.000000</td>\n",
       "      <td>0.0</td>\n",
       "      <td>0.0</td>\n",
       "      <td>7.855644e-322</td>\n",
       "    </tr>\n",
       "    <tr>\n",
       "      <th>4</th>\n",
       "      <td>1.645256e-02</td>\n",
       "      <td>0.000000e+00</td>\n",
       "      <td>0.983547</td>\n",
       "      <td>0.0</td>\n",
       "      <td>0.0</td>\n",
       "      <td>2.192169e-320</td>\n",
       "    </tr>\n",
       "  </tbody>\n",
       "</table>\n",
       "</div>"
      ],
      "text/plain": [
       "           PRAD          LUAD      BRCA  KIRC  COAD            sum\n",
       "0  1.000000e+00  0.000000e+00  0.000000   0.0   0.0  3.458460e-323\n",
       "1  2.010910e-15  1.216969e-12  0.000000   1.0   0.0  1.284972e-306\n",
       "2  1.000000e+00  0.000000e+00  0.000000   0.0   0.0  1.047419e-321\n",
       "3  1.000000e+00  0.000000e+00  0.000000   0.0   0.0  7.855644e-322\n",
       "4  1.645256e-02  0.000000e+00  0.983547   0.0   0.0  2.192169e-320"
      ]
     },
     "execution_count": 60,
     "metadata": {},
     "output_type": "execute_result"
    }
   ],
   "source": [
    "#Divide the probability of each class geiven theta by the sum of the probabilities to get the \n",
    "# normalized probability\n",
    "\n",
    "prob_df[\"PRAD\"] = prob_df[\"PRAD\"]/prob_df['sum']\n",
    "prob_df[\"LUAD\"] = prob_df[\"LUAD\"]/prob_df['sum']\n",
    "prob_df[\"BRCA\"] = prob_df[\"BRCA\"]/prob_df['sum']\n",
    "prob_df[\"KIRC\"] = prob_df[\"KIRC\"]/prob_df['sum']\n",
    "prob_df[\"COAD\"] = prob_df[\"COAD\"]/prob_df['sum']\n",
    "prob_df.head()"
   ]
  },
  {
   "cell_type": "code",
   "execution_count": 61,
   "metadata": {
    "collapsed": false
   },
   "outputs": [
    {
     "name": "stdout",
     "output_type": "stream",
     "text": [
      "PRAD    391\n",
      "BRCA    203\n",
      "KIRC    160\n",
      "LUAD     31\n",
      "COAD     16\n",
      "Name: pred, dtype: int64\n",
      "BRCA    300\n",
      "KIRC    146\n",
      "LUAD    141\n",
      "PRAD    136\n",
      "COAD     78\n",
      "Name: Class, dtype: int64\n"
     ]
    }
   ],
   "source": [
    "#Predict the class of each observation by finding the class with the highest probability for each obs.\n",
    "prob_df['pred'] = prob_df.iloc[:, 0:5].idxmax(axis = 1)\n",
    "print(prob_df['pred'].value_counts())\n",
    "print(y.value_counts())"
   ]
  },
  {
   "cell_type": "code",
   "execution_count": 62,
   "metadata": {
    "collapsed": true
   },
   "outputs": [],
   "source": [
    "#Initialize columns for the ground truth label and an indicator of whether the prediction is correct\n",
    "prob_df['groundtruth'] = y\n",
    "prob_df['correct'] = np.nan"
   ]
  },
  {
   "cell_type": "code",
   "execution_count": 63,
   "metadata": {
    "collapsed": false
   },
   "outputs": [
    {
     "data": {
      "text/html": [
       "<div>\n",
       "<style scoped>\n",
       "    .dataframe tbody tr th:only-of-type {\n",
       "        vertical-align: middle;\n",
       "    }\n",
       "\n",
       "    .dataframe tbody tr th {\n",
       "        vertical-align: top;\n",
       "    }\n",
       "\n",
       "    .dataframe thead th {\n",
       "        text-align: right;\n",
       "    }\n",
       "</style>\n",
       "<table border=\"1\" class=\"dataframe\">\n",
       "  <thead>\n",
       "    <tr style=\"text-align: right;\">\n",
       "      <th></th>\n",
       "      <th>PRAD</th>\n",
       "      <th>LUAD</th>\n",
       "      <th>BRCA</th>\n",
       "      <th>KIRC</th>\n",
       "      <th>COAD</th>\n",
       "      <th>sum</th>\n",
       "      <th>pred</th>\n",
       "      <th>groundtruth</th>\n",
       "      <th>correct</th>\n",
       "    </tr>\n",
       "  </thead>\n",
       "  <tbody>\n",
       "    <tr>\n",
       "      <th>0</th>\n",
       "      <td>1.000000e+00</td>\n",
       "      <td>0.000000e+00</td>\n",
       "      <td>0.000000</td>\n",
       "      <td>0.0</td>\n",
       "      <td>0.0</td>\n",
       "      <td>3.458460e-323</td>\n",
       "      <td>PRAD</td>\n",
       "      <td>PRAD</td>\n",
       "      <td>1.0</td>\n",
       "    </tr>\n",
       "    <tr>\n",
       "      <th>1</th>\n",
       "      <td>2.010910e-15</td>\n",
       "      <td>1.216969e-12</td>\n",
       "      <td>0.000000</td>\n",
       "      <td>1.0</td>\n",
       "      <td>0.0</td>\n",
       "      <td>1.284972e-306</td>\n",
       "      <td>KIRC</td>\n",
       "      <td>LUAD</td>\n",
       "      <td>0.0</td>\n",
       "    </tr>\n",
       "    <tr>\n",
       "      <th>2</th>\n",
       "      <td>1.000000e+00</td>\n",
       "      <td>0.000000e+00</td>\n",
       "      <td>0.000000</td>\n",
       "      <td>0.0</td>\n",
       "      <td>0.0</td>\n",
       "      <td>1.047419e-321</td>\n",
       "      <td>PRAD</td>\n",
       "      <td>PRAD</td>\n",
       "      <td>1.0</td>\n",
       "    </tr>\n",
       "    <tr>\n",
       "      <th>3</th>\n",
       "      <td>1.000000e+00</td>\n",
       "      <td>0.000000e+00</td>\n",
       "      <td>0.000000</td>\n",
       "      <td>0.0</td>\n",
       "      <td>0.0</td>\n",
       "      <td>7.855644e-322</td>\n",
       "      <td>PRAD</td>\n",
       "      <td>PRAD</td>\n",
       "      <td>1.0</td>\n",
       "    </tr>\n",
       "    <tr>\n",
       "      <th>4</th>\n",
       "      <td>1.645256e-02</td>\n",
       "      <td>0.000000e+00</td>\n",
       "      <td>0.983547</td>\n",
       "      <td>0.0</td>\n",
       "      <td>0.0</td>\n",
       "      <td>2.192169e-320</td>\n",
       "      <td>BRCA</td>\n",
       "      <td>BRCA</td>\n",
       "      <td>1.0</td>\n",
       "    </tr>\n",
       "  </tbody>\n",
       "</table>\n",
       "</div>"
      ],
      "text/plain": [
       "           PRAD          LUAD      BRCA  KIRC  COAD            sum  pred  \\\n",
       "0  1.000000e+00  0.000000e+00  0.000000   0.0   0.0  3.458460e-323  PRAD   \n",
       "1  2.010910e-15  1.216969e-12  0.000000   1.0   0.0  1.284972e-306  KIRC   \n",
       "2  1.000000e+00  0.000000e+00  0.000000   0.0   0.0  1.047419e-321  PRAD   \n",
       "3  1.000000e+00  0.000000e+00  0.000000   0.0   0.0  7.855644e-322  PRAD   \n",
       "4  1.645256e-02  0.000000e+00  0.983547   0.0   0.0  2.192169e-320  BRCA   \n",
       "\n",
       "  groundtruth  correct  \n",
       "0        PRAD      1.0  \n",
       "1        LUAD      0.0  \n",
       "2        PRAD      1.0  \n",
       "3        PRAD      1.0  \n",
       "4        BRCA      1.0  "
      ]
     },
     "execution_count": 63,
     "metadata": {},
     "output_type": "execute_result"
    }
   ],
   "source": [
    "#Determine the accuracy\n",
    "\n",
    "for i in range(801):\n",
    "    if prob_df.loc[i, 'pred'] == prob_df.loc[i, 'groundtruth']:\n",
    "        prob_df.loc[i, 'correct'] = 1\n",
    "    else: \n",
    "        prob_df.loc[i, 'correct'] = 0\n",
    "prob_df.head()"
   ]
  },
  {
   "cell_type": "code",
   "execution_count": 64,
   "metadata": {
    "collapsed": false
   },
   "outputs": [
    {
     "data": {
      "text/plain": [
       "404.0"
      ]
     },
     "execution_count": 64,
     "metadata": {},
     "output_type": "execute_result"
    }
   ],
   "source": [
    "#Find the total number of correct predictions\n",
    "\n",
    "total_correct = sum(prob_df['correct'])\n",
    "total_correct"
   ]
  },
  {
   "cell_type": "code",
   "execution_count": 65,
   "metadata": {
    "collapsed": false
   },
   "outputs": [
    {
     "name": "stdout",
     "output_type": "stream",
     "text": [
      "Accuracy of Expectation Maximization classifier on test set: 0.50\n"
     ]
    }
   ],
   "source": [
    "#Calculate the percentage of correct observations\n",
    "\n",
    "print('Accuracy of Expectation Maximization classifier on test set: {:.2f}'.format(total_correct/len(prob_df)))"
   ]
  },
  {
   "cell_type": "code",
   "execution_count": 66,
   "metadata": {
    "collapsed": false,
    "scrolled": true
   },
   "outputs": [
    {
     "data": {
      "image/png": "[encoded data removed]",
      "text/plain": [
       "<matplotlib.figure.Figure at 0x10d1fd198>"
      ]
     },
     "metadata": {},
     "output_type": "display_data"
    }
   ],
   "source": [
    "# show distribution of EM predictions\n",
    "h1 = plt.hist(np.array(prob_df[\"pred\"]), bins=20,normed=False,histtype='stepfilled',alpha=0.8); "
   ]
  },
  {
   "cell_type": "markdown",
   "metadata": {},
   "source": [
    "## Bayes Classifier"
   ]
  },
  {
   "cell_type": "code",
   "execution_count": 67,
   "metadata": {
    "collapsed": true
   },
   "outputs": [],
   "source": [
    "#Reassign x and y to full original dataset/labels\n",
    "x = df2.loc[:,:\"gene_20530\"]\n",
    "y = df2.loc[:,\"Class\"]"
   ]
  },
  {
   "cell_type": "code",
   "execution_count": 68,
   "metadata": {
    "collapsed": false
   },
   "outputs": [
    {
     "data": {
      "text/plain": [
       "array([[-0.19479935, -0.82802988,  0.15980044, ..., -1.18793812,\n",
       "        -0.11648251, -0.26190144],\n",
       "       [-0.19479935, -2.01501735, -1.415042  , ..., -0.34227662,\n",
       "        -1.65688871, -0.26190144],\n",
       "       [-0.19479935,  0.41734754,  1.15673547, ...,  0.88686027,\n",
       "        -1.85526414, -0.26190144],\n",
       "       ...,\n",
       "       [-0.19479935,  0.19888076,  0.57481583, ..., -0.22008186,\n",
       "        -0.41046699,  1.3485582 ],\n",
       "       [-0.19479935, -0.35045311, -0.28863152, ...,  1.43719268,\n",
       "         0.09195083, -0.26190144],\n",
       "       [-0.19479935, -0.57135218,  0.66725377, ...,  0.45087581,\n",
       "        -0.47161901, -0.26190144]])"
      ]
     },
     "execution_count": 68,
     "metadata": {},
     "output_type": "execute_result"
    }
   ],
   "source": [
    "# Scale the data to be between -1 and 1\n",
    "scaler = StandardScaler()\n",
    "X=scaler.fit_transform(x)\n",
    "X"
   ]
  },
  {
   "cell_type": "code",
   "execution_count": 69,
   "metadata": {
    "collapsed": true
   },
   "outputs": [],
   "source": [
    "#Split testing/training sets\n",
    "X_train, X_test, Y_train, Y_test = train_test_split(X, y, test_size=0.3, random_state=0)"
   ]
  },
  {
   "cell_type": "markdown",
   "metadata": {},
   "source": [
    "### Gaussian Naive Bayes\n"
   ]
  },
  {
   "cell_type": "code",
   "execution_count": 70,
   "metadata": {
    "collapsed": false
   },
   "outputs": [
    {
     "data": {
      "text/plain": [
       "GaussianNB(priors=None)"
      ]
     },
     "execution_count": 70,
     "metadata": {},
     "output_type": "execute_result"
    }
   ],
   "source": [
    "#Chose the naive bayes model for comparison\n",
    "model_naive = GaussianNB()\n",
    "model_naive.fit(X_train, Y_train)"
   ]
  },
  {
   "cell_type": "code",
   "execution_count": 71,
   "metadata": {
    "collapsed": false
   },
   "outputs": [
    {
     "name": "stderr",
     "output_type": "stream",
     "text": [
      "//anaconda/lib/python3.5/site-packages/sklearn/metrics/classification.py:181: FutureWarning: elementwise comparison failed; returning scalar instead, but in the future will perform elementwise comparison\n",
      "  score = y_true == y_pred\n"
     ]
    },
    {
     "data": {
      "text/plain": [
       "0.0"
      ]
     },
     "execution_count": 71,
     "metadata": {},
     "output_type": "execute_result"
    }
   ],
   "source": [
    "#Compute the positive class predicition probabilities \n",
    "y_prob = model_naive.predict_proba(X_test)[:,1] \n",
    "y_pred = np.where(y_prob > 0.5, 1, 0) \n",
    "model_naive.score(X_test, y_pred)"
   ]
  },
  {
   "cell_type": "code",
   "execution_count": 72,
   "metadata": {
    "collapsed": false
   },
   "outputs": [
    {
     "name": "stdout",
     "output_type": "stream",
     "text": [
      "[0.74390244 0.71604938 0.61728395 0.61728395 0.61728395 0.69135802\n",
      " 0.6835443  0.65822785 0.73076923 0.66666667]\n"
     ]
    }
   ],
   "source": [
    "#Compute accuracy scores with cross validation\n",
    "scores = cross_val_score(model_naive, X, y, cv=10, scoring='accuracy')\n",
    "print(scores)"
   ]
  },
  {
   "cell_type": "code",
   "execution_count": 73,
   "metadata": {
    "collapsed": false
   },
   "outputs": [
    {
     "data": {
      "text/plain": [
       "0.6742369747618282"
      ]
     },
     "execution_count": 73,
     "metadata": {},
     "output_type": "execute_result"
    }
   ],
   "source": [
    "#Find the mean of the scores\n",
    "scores.mean()"
   ]
  },
  {
   "cell_type": "markdown",
   "metadata": {},
   "source": [
    "### Bernoulli Naive Bayes "
   ]
  },
  {
   "cell_type": "code",
   "execution_count": 74,
   "metadata": {
    "collapsed": false
   },
   "outputs": [
    {
     "data": {
      "text/plain": [
       "BernoulliNB(alpha=1.0, binarize=0.0, class_prior=None, fit_prior=True)"
      ]
     },
     "execution_count": 74,
     "metadata": {},
     "output_type": "execute_result"
    }
   ],
   "source": [
    "model_naive_b = BernoulliNB()\n",
    "model_naive_b.fit(X_train, Y_train)"
   ]
  },
  {
   "cell_type": "code",
   "execution_count": 75,
   "metadata": {
    "collapsed": false
   },
   "outputs": [
    {
     "name": "stderr",
     "output_type": "stream",
     "text": [
      "//anaconda/lib/python3.5/site-packages/sklearn/metrics/classification.py:181: FutureWarning: elementwise comparison failed; returning scalar instead, but in the future will perform elementwise comparison\n",
      "  score = y_true == y_pred\n"
     ]
    },
    {
     "data": {
      "text/plain": [
       "0.0"
      ]
     },
     "execution_count": 75,
     "metadata": {},
     "output_type": "execute_result"
    }
   ],
   "source": [
    "#Compute the positive class predicition probabilities \n",
    "y_prob = model_naive_b.predict_proba(X_test)[:,1] \n",
    "y_pred = np.where(y_prob > 0.5, 1, 0) \n",
    "model_naive.score(X_test, y_pred)"
   ]
  },
  {
   "cell_type": "code",
   "execution_count": 76,
   "metadata": {
    "collapsed": false
   },
   "outputs": [
    {
     "name": "stdout",
     "output_type": "stream",
     "text": [
      "[0.97560976 0.98765432 0.98765432 0.98765432 0.97530864 1.\n",
      " 1.         0.97468354 0.98717949 0.94871795]\n"
     ]
    }
   ],
   "source": [
    "#Compute accuracy scores with cross validation\n",
    "scores_b = cross_val_score(model_naive_b, X, y, cv=10, scoring='accuracy')\n",
    "print(scores_b)"
   ]
  },
  {
   "cell_type": "code",
   "execution_count": 77,
   "metadata": {
    "collapsed": false
   },
   "outputs": [
    {
     "data": {
      "text/plain": [
       "0.9824462341237066"
      ]
     },
     "execution_count": 77,
     "metadata": {},
     "output_type": "execute_result"
    }
   ],
   "source": [
    "#Find the mean of the scores\n",
    "scores_b.mean()"
   ]
  }
 ],
 "metadata": {
  "kernelspec": {
   "display_name": "Python 3.6",
   "language": "python",
   "name": "python3"
  },
  "language_info": {
   "codemirror_mode": {
    "name": "ipython",
    "version": 3
   },
   "file_extension": ".py",
   "mimetype": "text/x-python",
   "name": "python",
   "nbconvert_exporter": "python",
   "pygments_lexer": "ipython3",
   "version": "3.5.4"
  }
 },
 "nbformat": 4,
 "nbformat_minor": 2
}
